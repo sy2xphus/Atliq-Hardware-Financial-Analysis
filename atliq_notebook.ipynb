{
 "cells": [
  {
   "cell_type": "markdown",
   "id": "e5152316-5a56-4d5f-8aab-be6fb50d8afa",
   "metadata": {},
   "source": [
    "## AtliQ Hardware Financial Analysis"
   ]
  },
  {
   "cell_type": "markdown",
   "id": "55f21fce-456b-4454-ae2a-391293740c23",
   "metadata": {},
   "source": [
    "***"
   ]
  },
  {
   "cell_type": "markdown",
   "id": "c605979f-7a11-412e-b51f-ce96568294bf",
   "metadata": {},
   "source": [
    "### Project description: \n",
    "#### AtliQ Hardware is one of the leading computer hardware producers in India, and has even expanded into other countries as well. They sell different types of hardware to big players such as Amazon, Best Buy, and Walmart. This year, they're asking to conduct a big audit of their sales and help them automate their existing data. The clients are particularly interested in Financial Analysis: Revenue/Profits/Margin Change."
   ]
  },
  {
   "cell_type": "markdown",
   "id": "0b654a2b-fad1-4ac4-9dc9-ed5a67e5e415",
   "metadata": {},
   "source": [
    "### Goal of the project:\n",
    "#### To analyze revenue, profitability, and margin trends to provide insights into financial stability and growth opportunities according to decomposition file. (final_project_decomposition.pdf)"
   ]
  },
  {
   "cell_type": "markdown",
   "id": "d50d73a9-3c1a-4936-8fb1-ae759b62d2f3",
   "metadata": {},
   "source": [
    "### Table of Contents:\n",
    "[Step 1. Connect to the database and data exploration](#Step-1.-Connect-to-the-database-and-data-exploration)<br>\n",
    "[Step 2. Key metrics and research](#Step-2.-Key-metrics-and-research)<br>\n",
    "[Step 3. Hypothesis Testing](#Step-3.-Hypothesis-Testing)<br>\n",
    "[Step 4. Conclusions and Key Takeaways](#Step-4.-Conclusions-and-Key-Takeaways)<br>\n",
    "[Step 5. Tableau Dashboards](#Step-5.-Tableau-Dashboards)"
   ]
  },
  {
   "cell_type": "markdown",
   "id": "a11db388-8fea-42e4-9a88-1766bba9a86a",
   "metadata": {},
   "source": [
    "***"
   ]
  },
  {
   "cell_type": "markdown",
   "id": "6713f1d3-f7c3-41a3-bf26-3db7e0fad12b",
   "metadata": {},
   "source": [
    "### Step 1. Connect to the database and data exploration"
   ]
  },
  {
   "cell_type": "markdown",
   "id": "cc1d90be-737e-432f-81fd-772757bb35c3",
   "metadata": {},
   "source": [
    "#### 1.1. Reading database"
   ]
  },
  {
   "cell_type": "code",
   "execution_count": 11,
   "id": "d2d48570-cb4f-4b6a-afd0-591f6db50846",
   "metadata": {},
   "outputs": [],
   "source": [
    "#importing libraries\n",
    "import sqlite3\n",
    "import pandas as pd\n",
    "import matplotlib.pyplot as plt\n",
    "import numpy as np\n",
    "import calendar\n",
    "#importing libraries for statistical tests\n",
    "from scipy.stats import linregress, f_oneway, pearsonr, chi2_contingency"
   ]
  },
  {
   "cell_type": "code",
   "execution_count": 12,
   "id": "0ba1c420-0f37-45ca-80f3-9d2a29d4539e",
   "metadata": {},
   "outputs": [],
   "source": [
    "#connecting to the SQLite database\n",
    "db_path = \"C:/Users/Taras/AtliqHardware/datasets/atliq_db.sqlite3\"\n",
    "con = sqlite3.connect(db_path)"
   ]
  },
  {
   "cell_type": "code",
   "execution_count": 13,
   "id": "831e9021-f8cf-48e7-827f-8fa442e1f6a1",
   "metadata": {},
   "outputs": [
    {
     "data": {
      "text/html": [
       "<div>\n",
       "<style scoped>\n",
       "    .dataframe tbody tr th:only-of-type {\n",
       "        vertical-align: middle;\n",
       "    }\n",
       "\n",
       "    .dataframe tbody tr th {\n",
       "        vertical-align: top;\n",
       "    }\n",
       "\n",
       "    .dataframe thead th {\n",
       "        text-align: right;\n",
       "    }\n",
       "</style>\n",
       "<table border=\"1\" class=\"dataframe\">\n",
       "  <thead>\n",
       "    <tr style=\"text-align: right;\">\n",
       "      <th></th>\n",
       "      <th>name</th>\n",
       "    </tr>\n",
       "  </thead>\n",
       "  <tbody>\n",
       "    <tr>\n",
       "      <th>0</th>\n",
       "      <td>dim_customer</td>\n",
       "    </tr>\n",
       "    <tr>\n",
       "      <th>1</th>\n",
       "      <td>dim_product</td>\n",
       "    </tr>\n",
       "    <tr>\n",
       "      <th>2</th>\n",
       "      <td>fact_pre_discount</td>\n",
       "    </tr>\n",
       "    <tr>\n",
       "      <th>3</th>\n",
       "      <td>fact_manufacturing_cost</td>\n",
       "    </tr>\n",
       "    <tr>\n",
       "      <th>4</th>\n",
       "      <td>fact_gross_price</td>\n",
       "    </tr>\n",
       "    <tr>\n",
       "      <th>5</th>\n",
       "      <td>fact_sales_monthly</td>\n",
       "    </tr>\n",
       "  </tbody>\n",
       "</table>\n",
       "</div>"
      ],
      "text/plain": [
       "                      name\n",
       "0             dim_customer\n",
       "1              dim_product\n",
       "2        fact_pre_discount\n",
       "3  fact_manufacturing_cost\n",
       "4         fact_gross_price\n",
       "5       fact_sales_monthly"
      ]
     },
     "metadata": {},
     "output_type": "display_data"
    }
   ],
   "source": [
    "#fetching all table names\n",
    "query_tables = \"SELECT name FROM sqlite_master WHERE type='table';\"\n",
    "tables = pd.read_sql_query(query_tables, con)\n",
    "display(tables)"
   ]
  },
  {
   "cell_type": "markdown",
   "id": "c4cb6385-a6df-4286-b4c6-75ed6ae41190",
   "metadata": {},
   "source": [
    "There are 6 tables in AtliQ database."
   ]
  },
  {
   "cell_type": "markdown",
   "id": "226cb792-0ba6-4a66-b42d-bbdce76e4eeb",
   "metadata": {},
   "source": [
    "#### 1.2. Inspecting sample data"
   ]
  },
  {
   "cell_type": "code",
   "execution_count": 16,
   "id": "30d69879-9730-457f-9033-9940b8519d63",
   "metadata": {},
   "outputs": [
    {
     "name": "stdout",
     "output_type": "stream",
     "text": [
      "\n",
      "Table: dim_customer\n"
     ]
    },
    {
     "data": {
      "text/html": [
       "<div>\n",
       "<style scoped>\n",
       "    .dataframe tbody tr th:only-of-type {\n",
       "        vertical-align: middle;\n",
       "    }\n",
       "\n",
       "    .dataframe tbody tr th {\n",
       "        vertical-align: top;\n",
       "    }\n",
       "\n",
       "    .dataframe thead th {\n",
       "        text-align: right;\n",
       "    }\n",
       "</style>\n",
       "<table border=\"1\" class=\"dataframe\">\n",
       "  <thead>\n",
       "    <tr style=\"text-align: right;\">\n",
       "      <th></th>\n",
       "      <th>customer_code</th>\n",
       "      <th>customer</th>\n",
       "      <th>platform</th>\n",
       "      <th>channel</th>\n",
       "      <th>market</th>\n",
       "      <th>sub_zone</th>\n",
       "      <th>region</th>\n",
       "    </tr>\n",
       "  </thead>\n",
       "  <tbody>\n",
       "    <tr>\n",
       "      <th>0</th>\n",
       "      <td>70002017</td>\n",
       "      <td>Atliq Exclusive</td>\n",
       "      <td>Brick &amp; Mortar</td>\n",
       "      <td>Direct</td>\n",
       "      <td>India</td>\n",
       "      <td>India</td>\n",
       "      <td>APAC</td>\n",
       "    </tr>\n",
       "    <tr>\n",
       "      <th>1</th>\n",
       "      <td>70002018</td>\n",
       "      <td>Atliq e Store</td>\n",
       "      <td>E-Commerce</td>\n",
       "      <td>Direct</td>\n",
       "      <td>India</td>\n",
       "      <td>India</td>\n",
       "      <td>APAC</td>\n",
       "    </tr>\n",
       "    <tr>\n",
       "      <th>2</th>\n",
       "      <td>70003181</td>\n",
       "      <td>Atliq Exclusive</td>\n",
       "      <td>Brick &amp; Mortar</td>\n",
       "      <td>Direct</td>\n",
       "      <td>Indonesia</td>\n",
       "      <td>ROA</td>\n",
       "      <td>APAC</td>\n",
       "    </tr>\n",
       "    <tr>\n",
       "      <th>3</th>\n",
       "      <td>70003182</td>\n",
       "      <td>Atliq e Store</td>\n",
       "      <td>E-Commerce</td>\n",
       "      <td>Direct</td>\n",
       "      <td>Indonesia</td>\n",
       "      <td>ROA</td>\n",
       "      <td>APAC</td>\n",
       "    </tr>\n",
       "    <tr>\n",
       "      <th>4</th>\n",
       "      <td>70004069</td>\n",
       "      <td>Atliq Exclusive</td>\n",
       "      <td>Brick &amp; Mortar</td>\n",
       "      <td>Direct</td>\n",
       "      <td>Japan</td>\n",
       "      <td>ROA</td>\n",
       "      <td>APAC</td>\n",
       "    </tr>\n",
       "  </tbody>\n",
       "</table>\n",
       "</div>"
      ],
      "text/plain": [
       "   customer_code         customer        platform channel     market sub_zone  \\\n",
       "0       70002017  Atliq Exclusive  Brick & Mortar  Direct      India    India   \n",
       "1       70002018    Atliq e Store      E-Commerce  Direct      India    India   \n",
       "2       70003181  Atliq Exclusive  Brick & Mortar  Direct  Indonesia      ROA   \n",
       "3       70003182    Atliq e Store      E-Commerce  Direct  Indonesia      ROA   \n",
       "4       70004069  Atliq Exclusive  Brick & Mortar  Direct      Japan      ROA   \n",
       "\n",
       "  region  \n",
       "0   APAC  \n",
       "1   APAC  \n",
       "2   APAC  \n",
       "3   APAC  \n",
       "4   APAC  "
      ]
     },
     "metadata": {},
     "output_type": "display_data"
    },
    {
     "name": "stdout",
     "output_type": "stream",
     "text": [
      "\n",
      "Table: dim_product\n"
     ]
    },
    {
     "data": {
      "text/html": [
       "<div>\n",
       "<style scoped>\n",
       "    .dataframe tbody tr th:only-of-type {\n",
       "        vertical-align: middle;\n",
       "    }\n",
       "\n",
       "    .dataframe tbody tr th {\n",
       "        vertical-align: top;\n",
       "    }\n",
       "\n",
       "    .dataframe thead th {\n",
       "        text-align: right;\n",
       "    }\n",
       "</style>\n",
       "<table border=\"1\" class=\"dataframe\">\n",
       "  <thead>\n",
       "    <tr style=\"text-align: right;\">\n",
       "      <th></th>\n",
       "      <th>product_code</th>\n",
       "      <th>division</th>\n",
       "      <th>segment</th>\n",
       "      <th>category</th>\n",
       "      <th>product</th>\n",
       "      <th>variant</th>\n",
       "    </tr>\n",
       "  </thead>\n",
       "  <tbody>\n",
       "    <tr>\n",
       "      <th>0</th>\n",
       "      <td>A0118150101</td>\n",
       "      <td>P &amp; A</td>\n",
       "      <td>Peripherals</td>\n",
       "      <td>Internal HDD</td>\n",
       "      <td>AQ Dracula HDD – 3.5 Inch SATA 6 Gb/s 5400 RPM...</td>\n",
       "      <td>Standard</td>\n",
       "    </tr>\n",
       "    <tr>\n",
       "      <th>1</th>\n",
       "      <td>A0118150102</td>\n",
       "      <td>P &amp; A</td>\n",
       "      <td>Peripherals</td>\n",
       "      <td>Internal HDD</td>\n",
       "      <td>AQ Dracula HDD – 3.5 Inch SATA 6 Gb/s 5400 RPM...</td>\n",
       "      <td>Plus</td>\n",
       "    </tr>\n",
       "    <tr>\n",
       "      <th>2</th>\n",
       "      <td>A0118150103</td>\n",
       "      <td>P &amp; A</td>\n",
       "      <td>Peripherals</td>\n",
       "      <td>Internal HDD</td>\n",
       "      <td>AQ Dracula HDD – 3.5 Inch SATA 6 Gb/s 5400 RPM...</td>\n",
       "      <td>Premium</td>\n",
       "    </tr>\n",
       "    <tr>\n",
       "      <th>3</th>\n",
       "      <td>A0118150104</td>\n",
       "      <td>P &amp; A</td>\n",
       "      <td>Peripherals</td>\n",
       "      <td>Internal HDD</td>\n",
       "      <td>AQ Dracula HDD – 3.5 Inch SATA 6 Gb/s 5400 RPM...</td>\n",
       "      <td>Premium Plus</td>\n",
       "    </tr>\n",
       "    <tr>\n",
       "      <th>4</th>\n",
       "      <td>A0219150201</td>\n",
       "      <td>P &amp; A</td>\n",
       "      <td>Peripherals</td>\n",
       "      <td>Internal HDD</td>\n",
       "      <td>AQ WereWolf NAS Internal Hard Drive HDD – 8.89 cm</td>\n",
       "      <td>Standard</td>\n",
       "    </tr>\n",
       "  </tbody>\n",
       "</table>\n",
       "</div>"
      ],
      "text/plain": [
       "  product_code division      segment      category  \\\n",
       "0  A0118150101    P & A  Peripherals  Internal HDD   \n",
       "1  A0118150102    P & A  Peripherals  Internal HDD   \n",
       "2  A0118150103    P & A  Peripherals  Internal HDD   \n",
       "3  A0118150104    P & A  Peripherals  Internal HDD   \n",
       "4  A0219150201    P & A  Peripherals  Internal HDD   \n",
       "\n",
       "                                             product       variant  \n",
       "0  AQ Dracula HDD – 3.5 Inch SATA 6 Gb/s 5400 RPM...      Standard  \n",
       "1  AQ Dracula HDD – 3.5 Inch SATA 6 Gb/s 5400 RPM...          Plus  \n",
       "2  AQ Dracula HDD – 3.5 Inch SATA 6 Gb/s 5400 RPM...       Premium  \n",
       "3  AQ Dracula HDD – 3.5 Inch SATA 6 Gb/s 5400 RPM...  Premium Plus  \n",
       "4  AQ WereWolf NAS Internal Hard Drive HDD – 8.89 cm      Standard  "
      ]
     },
     "metadata": {},
     "output_type": "display_data"
    },
    {
     "name": "stdout",
     "output_type": "stream",
     "text": [
      "\n",
      "Table: fact_pre_discount\n"
     ]
    },
    {
     "data": {
      "text/html": [
       "<div>\n",
       "<style scoped>\n",
       "    .dataframe tbody tr th:only-of-type {\n",
       "        vertical-align: middle;\n",
       "    }\n",
       "\n",
       "    .dataframe tbody tr th {\n",
       "        vertical-align: top;\n",
       "    }\n",
       "\n",
       "    .dataframe thead th {\n",
       "        text-align: right;\n",
       "    }\n",
       "</style>\n",
       "<table border=\"1\" class=\"dataframe\">\n",
       "  <thead>\n",
       "    <tr style=\"text-align: right;\">\n",
       "      <th></th>\n",
       "      <th>customer_code</th>\n",
       "      <th>fiscal_year</th>\n",
       "      <th>pre_invoice_discount_pct</th>\n",
       "    </tr>\n",
       "  </thead>\n",
       "  <tbody>\n",
       "    <tr>\n",
       "      <th>0</th>\n",
       "      <td>70002017</td>\n",
       "      <td>2018</td>\n",
       "      <td>0.0824</td>\n",
       "    </tr>\n",
       "    <tr>\n",
       "      <th>1</th>\n",
       "      <td>70002017</td>\n",
       "      <td>2019</td>\n",
       "      <td>0.0777</td>\n",
       "    </tr>\n",
       "    <tr>\n",
       "      <th>2</th>\n",
       "      <td>70002017</td>\n",
       "      <td>2020</td>\n",
       "      <td>0.0735</td>\n",
       "    </tr>\n",
       "    <tr>\n",
       "      <th>3</th>\n",
       "      <td>70002017</td>\n",
       "      <td>2021</td>\n",
       "      <td>0.0703</td>\n",
       "    </tr>\n",
       "    <tr>\n",
       "      <th>4</th>\n",
       "      <td>70002017</td>\n",
       "      <td>2022</td>\n",
       "      <td>0.1057</td>\n",
       "    </tr>\n",
       "  </tbody>\n",
       "</table>\n",
       "</div>"
      ],
      "text/plain": [
       "   customer_code  fiscal_year  pre_invoice_discount_pct\n",
       "0       70002017         2018                    0.0824\n",
       "1       70002017         2019                    0.0777\n",
       "2       70002017         2020                    0.0735\n",
       "3       70002017         2021                    0.0703\n",
       "4       70002017         2022                    0.1057"
      ]
     },
     "metadata": {},
     "output_type": "display_data"
    },
    {
     "name": "stdout",
     "output_type": "stream",
     "text": [
      "\n",
      "Table: fact_manufacturing_cost\n"
     ]
    },
    {
     "data": {
      "text/html": [
       "<div>\n",
       "<style scoped>\n",
       "    .dataframe tbody tr th:only-of-type {\n",
       "        vertical-align: middle;\n",
       "    }\n",
       "\n",
       "    .dataframe tbody tr th {\n",
       "        vertical-align: top;\n",
       "    }\n",
       "\n",
       "    .dataframe thead th {\n",
       "        text-align: right;\n",
       "    }\n",
       "</style>\n",
       "<table border=\"1\" class=\"dataframe\">\n",
       "  <thead>\n",
       "    <tr style=\"text-align: right;\">\n",
       "      <th></th>\n",
       "      <th>product_code</th>\n",
       "      <th>cost_year</th>\n",
       "      <th>manufacturing_cost</th>\n",
       "    </tr>\n",
       "  </thead>\n",
       "  <tbody>\n",
       "    <tr>\n",
       "      <th>0</th>\n",
       "      <td>A0118150101</td>\n",
       "      <td>2018</td>\n",
       "      <td>4.6190</td>\n",
       "    </tr>\n",
       "    <tr>\n",
       "      <th>1</th>\n",
       "      <td>A0118150101</td>\n",
       "      <td>2019</td>\n",
       "      <td>4.2033</td>\n",
       "    </tr>\n",
       "    <tr>\n",
       "      <th>2</th>\n",
       "      <td>A0118150101</td>\n",
       "      <td>2020</td>\n",
       "      <td>5.0207</td>\n",
       "    </tr>\n",
       "    <tr>\n",
       "      <th>3</th>\n",
       "      <td>A0118150101</td>\n",
       "      <td>2021</td>\n",
       "      <td>5.5172</td>\n",
       "    </tr>\n",
       "    <tr>\n",
       "      <th>4</th>\n",
       "      <td>A0118150102</td>\n",
       "      <td>2018</td>\n",
       "      <td>5.6036</td>\n",
       "    </tr>\n",
       "  </tbody>\n",
       "</table>\n",
       "</div>"
      ],
      "text/plain": [
       "  product_code  cost_year  manufacturing_cost\n",
       "0  A0118150101       2018              4.6190\n",
       "1  A0118150101       2019              4.2033\n",
       "2  A0118150101       2020              5.0207\n",
       "3  A0118150101       2021              5.5172\n",
       "4  A0118150102       2018              5.6036"
      ]
     },
     "metadata": {},
     "output_type": "display_data"
    },
    {
     "name": "stdout",
     "output_type": "stream",
     "text": [
      "\n",
      "Table: fact_gross_price\n"
     ]
    },
    {
     "data": {
      "text/html": [
       "<div>\n",
       "<style scoped>\n",
       "    .dataframe tbody tr th:only-of-type {\n",
       "        vertical-align: middle;\n",
       "    }\n",
       "\n",
       "    .dataframe tbody tr th {\n",
       "        vertical-align: top;\n",
       "    }\n",
       "\n",
       "    .dataframe thead th {\n",
       "        text-align: right;\n",
       "    }\n",
       "</style>\n",
       "<table border=\"1\" class=\"dataframe\">\n",
       "  <thead>\n",
       "    <tr style=\"text-align: right;\">\n",
       "      <th></th>\n",
       "      <th>product_code</th>\n",
       "      <th>fiscal_year</th>\n",
       "      <th>gross_price</th>\n",
       "    </tr>\n",
       "  </thead>\n",
       "  <tbody>\n",
       "    <tr>\n",
       "      <th>0</th>\n",
       "      <td>A0118150101</td>\n",
       "      <td>2018</td>\n",
       "      <td>15.3952</td>\n",
       "    </tr>\n",
       "    <tr>\n",
       "      <th>1</th>\n",
       "      <td>A0118150101</td>\n",
       "      <td>2019</td>\n",
       "      <td>14.4392</td>\n",
       "    </tr>\n",
       "    <tr>\n",
       "      <th>2</th>\n",
       "      <td>A0118150101</td>\n",
       "      <td>2020</td>\n",
       "      <td>16.2323</td>\n",
       "    </tr>\n",
       "    <tr>\n",
       "      <th>3</th>\n",
       "      <td>A0118150101</td>\n",
       "      <td>2021</td>\n",
       "      <td>19.0573</td>\n",
       "    </tr>\n",
       "    <tr>\n",
       "      <th>4</th>\n",
       "      <td>A0118150102</td>\n",
       "      <td>2018</td>\n",
       "      <td>19.5875</td>\n",
       "    </tr>\n",
       "  </tbody>\n",
       "</table>\n",
       "</div>"
      ],
      "text/plain": [
       "  product_code  fiscal_year  gross_price\n",
       "0  A0118150101         2018      15.3952\n",
       "1  A0118150101         2019      14.4392\n",
       "2  A0118150101         2020      16.2323\n",
       "3  A0118150101         2021      19.0573\n",
       "4  A0118150102         2018      19.5875"
      ]
     },
     "metadata": {},
     "output_type": "display_data"
    },
    {
     "name": "stdout",
     "output_type": "stream",
     "text": [
      "\n",
      "Table: fact_sales_monthly\n"
     ]
    },
    {
     "data": {
      "text/html": [
       "<div>\n",
       "<style scoped>\n",
       "    .dataframe tbody tr th:only-of-type {\n",
       "        vertical-align: middle;\n",
       "    }\n",
       "\n",
       "    .dataframe tbody tr th {\n",
       "        vertical-align: top;\n",
       "    }\n",
       "\n",
       "    .dataframe thead th {\n",
       "        text-align: right;\n",
       "    }\n",
       "</style>\n",
       "<table border=\"1\" class=\"dataframe\">\n",
       "  <thead>\n",
       "    <tr style=\"text-align: right;\">\n",
       "      <th></th>\n",
       "      <th>date</th>\n",
       "      <th>product_code</th>\n",
       "      <th>customer_code</th>\n",
       "      <th>sold_quantity</th>\n",
       "      <th>fiscal_year</th>\n",
       "    </tr>\n",
       "  </thead>\n",
       "  <tbody>\n",
       "    <tr>\n",
       "      <th>0</th>\n",
       "      <td>2017-09-01</td>\n",
       "      <td>A0118150101</td>\n",
       "      <td>70002017</td>\n",
       "      <td>51</td>\n",
       "      <td>2018</td>\n",
       "    </tr>\n",
       "    <tr>\n",
       "      <th>1</th>\n",
       "      <td>2017-09-01</td>\n",
       "      <td>A0118150101</td>\n",
       "      <td>70002018</td>\n",
       "      <td>77</td>\n",
       "      <td>2018</td>\n",
       "    </tr>\n",
       "    <tr>\n",
       "      <th>2</th>\n",
       "      <td>2017-09-01</td>\n",
       "      <td>A0118150101</td>\n",
       "      <td>70003181</td>\n",
       "      <td>17</td>\n",
       "      <td>2018</td>\n",
       "    </tr>\n",
       "    <tr>\n",
       "      <th>3</th>\n",
       "      <td>2017-09-01</td>\n",
       "      <td>A0118150101</td>\n",
       "      <td>70003182</td>\n",
       "      <td>6</td>\n",
       "      <td>2018</td>\n",
       "    </tr>\n",
       "    <tr>\n",
       "      <th>4</th>\n",
       "      <td>2017-09-01</td>\n",
       "      <td>A0118150101</td>\n",
       "      <td>70006157</td>\n",
       "      <td>5</td>\n",
       "      <td>2018</td>\n",
       "    </tr>\n",
       "  </tbody>\n",
       "</table>\n",
       "</div>"
      ],
      "text/plain": [
       "         date product_code  customer_code  sold_quantity  fiscal_year\n",
       "0  2017-09-01  A0118150101       70002017             51         2018\n",
       "1  2017-09-01  A0118150101       70002018             77         2018\n",
       "2  2017-09-01  A0118150101       70003181             17         2018\n",
       "3  2017-09-01  A0118150101       70003182              6         2018\n",
       "4  2017-09-01  A0118150101       70006157              5         2018"
      ]
     },
     "metadata": {},
     "output_type": "display_data"
    }
   ],
   "source": [
    "#fetching first 5 rows of data from each table\n",
    "tables_list = tables['name'].tolist()\n",
    "sample_data = {}\n",
    "for table in tables_list:\n",
    "    query = f\"SELECT * FROM {table} LIMIT 5;\"\n",
    "    sample_data[table] = pd.read_sql_query(query, con)\n",
    "#displaying first 5 rows from each table\n",
    "for table_name, df in sample_data.items():\n",
    "    print(f\"\\nTable: {table_name}\")\n",
    "    display(df)"
   ]
  },
  {
   "cell_type": "markdown",
   "id": "fad15e81-11da-4793-b3c9-3d6670310e2b",
   "metadata": {},
   "source": [
    "From our inspection, we note the following key relationships:\n",
    "\n",
    "- `dim_customer`: Contains details about customers, their platform, channel, and market.\n",
    "- `dim_product`: Defines product attributes like division, segment, and category.\n",
    "- `fact_sales_monthly`: Holds sales transactions (date, product, customer, quantity sold, and fiscal year).\n",
    "- `fact_gross_price`: Provides the selling price of products over time.\n",
    "- `fact_manufacturing_cost`: Contains the cost of manufacturing products over time.\n",
    "- `fact_pre_discount`: Stores discount percentages applied per invoice."
   ]
  },
  {
   "cell_type": "markdown",
   "id": "c91cb228-2277-453b-8fbd-4586111b6184",
   "metadata": {},
   "source": [
    "#### 1.3. Data Cleaning"
   ]
  },
  {
   "cell_type": "code",
   "execution_count": 19,
   "id": "edf8e789-6477-457d-8c83-5c3513f422bc",
   "metadata": {},
   "outputs": [
    {
     "name": "stdout",
     "output_type": "stream",
     "text": [
      "Table: dim_customer\n",
      "Missing values:\n",
      " customer_code    0\n",
      "customer         0\n",
      "platform         0\n",
      "channel          0\n",
      "market           0\n",
      "sub_zone         0\n",
      "region           0\n",
      "dtype: int64\n",
      "Duplicate rows: 0 \n",
      "\n",
      "Table: dim_product\n",
      "Missing values:\n",
      " product_code    0\n",
      "division        0\n",
      "segment         0\n",
      "category        0\n",
      "product         0\n",
      "variant         0\n",
      "dtype: int64\n",
      "Duplicate rows: 0 \n",
      "\n",
      "Table: fact_sales_monthly\n",
      "Missing values:\n",
      " date             0\n",
      "product_code     0\n",
      "customer_code    1\n",
      "sold_quantity    1\n",
      "fiscal_year      1\n",
      "dtype: int64\n",
      "Duplicate rows: 0 \n",
      "\n",
      "Table: fact_gross_price\n",
      "Missing values:\n",
      " product_code    0\n",
      "fiscal_year     0\n",
      "gross_price     0\n",
      "dtype: int64\n",
      "Duplicate rows: 0 \n",
      "\n",
      "Table: fact_manufacturing_cost\n",
      "Missing values:\n",
      " product_code          0\n",
      "cost_year             0\n",
      "manufacturing_cost    0\n",
      "dtype: int64\n",
      "Duplicate rows: 0 \n",
      "\n",
      "Table: fact_pre_discount\n",
      "Missing values:\n",
      " customer_code               0\n",
      "fiscal_year                 0\n",
      "pre_invoice_discount_pct    0\n",
      "dtype: int64\n",
      "Duplicate rows: 0 \n",
      "\n"
     ]
    }
   ],
   "source": [
    "#checking for missing values and duplicates in each table\n",
    "tables = ['dim_customer', 'dim_product', 'fact_sales_monthly', 'fact_gross_price', 'fact_manufacturing_cost', 'fact_pre_discount']\n",
    "\n",
    "for table in tables:\n",
    "    df = pd.read_sql_query(f\"SELECT * FROM {table};\", con)\n",
    "    print(f\"Table: {table}\")\n",
    "    print(\"Missing values:\\n\", df.isnull().sum())\n",
    "    print(\"Duplicate rows:\", df.duplicated().sum(), \"\\n\")"
   ]
  },
  {
   "cell_type": "code",
   "execution_count": 20,
   "id": "84c2e2f8-333b-4fdc-989a-904390a8354e",
   "metadata": {},
   "outputs": [
    {
     "data": {
      "text/plain": [
       "date             0\n",
       "product_code     0\n",
       "customer_code    1\n",
       "sold_quantity    1\n",
       "fiscal_year      1\n",
       "dtype: int64"
      ]
     },
     "execution_count": 20,
     "metadata": {},
     "output_type": "execute_result"
    }
   ],
   "source": [
    "#checking which columns exactly have missing values\n",
    "fs = pd.read_sql_query(\"SELECT * FROM fact_sales_monthly;\", con)\n",
    "fs.isnull().sum()"
   ]
  },
  {
   "cell_type": "code",
   "execution_count": 21,
   "id": "26b0ca7a-3ed7-4258-9d6e-c6c87c844f34",
   "metadata": {},
   "outputs": [
    {
     "name": "stderr",
     "output_type": "stream",
     "text": [
      "C:\\Temp\\ipykernel_1776\\3674274206.py:5: SettingWithCopyWarning: \n",
      "A value is trying to be set on a copy of a slice from a DataFrame.\n",
      "Try using .loc[row_indexer,col_indexer] = value instead\n",
      "\n",
      "See the caveats in the documentation: https://pandas.pydata.org/pandas-docs/stable/user_guide/indexing.html#returning-a-view-versus-a-copy\n",
      "  fs_cleaned['sold_quantity'] = fs_cleaned['sold_quantity'].fillna(0)\n"
     ]
    },
    {
     "data": {
      "text/plain": [
       "date             0\n",
       "product_code     0\n",
       "customer_code    0\n",
       "sold_quantity    0\n",
       "fiscal_year      0\n",
       "dtype: int64"
      ]
     },
     "execution_count": 21,
     "metadata": {},
     "output_type": "execute_result"
    }
   ],
   "source": [
    "#dropping rows with missing fields\n",
    "fs_cleaned = fs.dropna(subset=['customer_code', 'fiscal_year'])\n",
    "\n",
    "#filling missing value in 'sold_quantity' as 0 (assuming missing value means zero sales)\n",
    "fs_cleaned['sold_quantity'] = fs_cleaned['sold_quantity'].fillna(0)\n",
    "\n",
    "#checking for missing values after cleaning\n",
    "fs_cleaned.isnull().sum()"
   ]
  },
  {
   "cell_type": "markdown",
   "id": "27d126ba-4d98-40fa-a0d5-3d1d9623f5d1",
   "metadata": {},
   "source": [
    "All missing values in 'fact_sales_monthly' table have been handled."
   ]
  },
  {
   "cell_type": "markdown",
   "id": "bcce6c93-a849-4105-b4cd-bc61c58d7fc9",
   "metadata": {},
   "source": [
    "### Step 2. Key metrics and research"
   ]
  },
  {
   "cell_type": "markdown",
   "id": "36d5dd5c-f4e9-4277-bc8c-4a3d2fba8cfe",
   "metadata": {},
   "source": [
    "#### 2.1. Revenue & Profit Trends calculations"
   ]
  },
  {
   "cell_type": "markdown",
   "id": "866e2b54-e687-4c65-993d-506d51157e87",
   "metadata": {},
   "source": [
    "Total Revenue (`total_revenue`) = `sold_quantity` * `gross_price` * (1 - `pre_invoice_discount_pct`)\n",
    "\n",
    "Total Profit (`total_profit`) = (`gross_price` * (1 - `pre_invoice_discount_pct`) - `manufacturing_cost`) * `sold_quantity`\n",
    "\n",
    "Revenue and Profit being calculated using gross price (with applied discount)."
   ]
  },
  {
   "cell_type": "code",
   "execution_count": 31,
   "id": "8df1d6c1-56d4-46e2-8de9-82bf0c2b1196",
   "metadata": {},
   "outputs": [
    {
     "data": {
      "text/html": [
       "<div>\n",
       "<style scoped>\n",
       "    .dataframe tbody tr th:only-of-type {\n",
       "        vertical-align: middle;\n",
       "    }\n",
       "\n",
       "    .dataframe tbody tr th {\n",
       "        vertical-align: top;\n",
       "    }\n",
       "\n",
       "    .dataframe thead th {\n",
       "        text-align: right;\n",
       "    }\n",
       "</style>\n",
       "<table border=\"1\" class=\"dataframe\">\n",
       "  <thead>\n",
       "    <tr style=\"text-align: right;\">\n",
       "      <th></th>\n",
       "      <th>fiscal_year</th>\n",
       "      <th>total_revenue</th>\n",
       "      <th>total_profit</th>\n",
       "      <th>total_quantity</th>\n",
       "    </tr>\n",
       "  </thead>\n",
       "  <tbody>\n",
       "    <tr>\n",
       "      <th>0</th>\n",
       "      <td>2018</td>\n",
       "      <td>2.243184e+06</td>\n",
       "      <td>1.369294e+06</td>\n",
       "      <td>165271</td>\n",
       "    </tr>\n",
       "    <tr>\n",
       "      <th>1</th>\n",
       "      <td>2019</td>\n",
       "      <td>5.135223e+06</td>\n",
       "      <td>3.163647e+06</td>\n",
       "      <td>379519</td>\n",
       "    </tr>\n",
       "    <tr>\n",
       "      <th>2</th>\n",
       "      <td>2020</td>\n",
       "      <td>1.011269e+07</td>\n",
       "      <td>6.188997e+06</td>\n",
       "      <td>640584</td>\n",
       "    </tr>\n",
       "    <tr>\n",
       "      <th>3</th>\n",
       "      <td>2021</td>\n",
       "      <td>1.885336e+07</td>\n",
       "      <td>1.150637e+07</td>\n",
       "      <td>1057943</td>\n",
       "    </tr>\n",
       "    <tr>\n",
       "      <th>4</th>\n",
       "      <td>2022</td>\n",
       "      <td>2.996792e+07</td>\n",
       "      <td>1.839444e+07</td>\n",
       "      <td>1539618</td>\n",
       "    </tr>\n",
       "  </tbody>\n",
       "</table>\n",
       "</div>"
      ],
      "text/plain": [
       "   fiscal_year  total_revenue  total_profit  total_quantity\n",
       "0         2018   2.243184e+06  1.369294e+06          165271\n",
       "1         2019   5.135223e+06  3.163647e+06          379519\n",
       "2         2020   1.011269e+07  6.188997e+06          640584\n",
       "3         2021   1.885336e+07  1.150637e+07         1057943\n",
       "4         2022   2.996792e+07  1.839444e+07         1539618"
      ]
     },
     "metadata": {},
     "output_type": "display_data"
    }
   ],
   "source": [
    "#SQL query to compute revenue and profit trends over years\n",
    "query_revenue_profit = '''\n",
    "SELECT \n",
    "    fs.fiscal_year,\n",
    "    SUM(fs.sold_quantity * fg.gross_price * (1 - COALESCE(fpd.pre_invoice_discount_pct, 0))) AS total_revenue,\n",
    "    SUM((fg.gross_price * (1 - COALESCE(fpd.pre_invoice_discount_pct, 0)) - fmc.manufacturing_cost) * fs.sold_quantity) AS total_profit,\n",
    "    SUM(fs.sold_quantity) AS total_quantity\n",
    "FROM fact_sales_monthly fs\n",
    "JOIN fact_gross_price fg ON fs.product_code = fg.product_code AND fs.fiscal_year = fg.fiscal_year\n",
    "JOIN fact_manufacturing_cost fmc ON fs.product_code = fmc.product_code AND fs.fiscal_year = fmc.cost_year\n",
    "LEFT JOIN fact_pre_discount fpd ON fs.customer_code = fpd.customer_code AND fs.fiscal_year = fpd.fiscal_year\n",
    "GROUP BY fs.fiscal_year\n",
    "ORDER BY fs.fiscal_year;\n",
    "'''\n",
    "#executing query\n",
    "revenue_profit_trends = pd.read_sql_query(query_revenue_profit, con)\n",
    "#displaying results\n",
    "display(revenue_profit_trends)"
   ]
  },
  {
   "cell_type": "markdown",
   "id": "124a69fa-c281-4a68-968a-d7ab22ddafa0",
   "metadata": {},
   "source": [
    "#### 2.2. Revenue & Profit Trends visualization"
   ]
  },
  {
   "cell_type": "code",
   "execution_count": 34,
   "id": "955a3a83-c52c-4259-ae93-083c17b95351",
   "metadata": {},
   "outputs": [
    {
     "data": {
      "image/png": "[encoded data removed]",
      "text/plain": [
       "<Figure size 1000x600 with 1 Axes>"
      ]
     },
     "metadata": {},
     "output_type": "display_data"
    }
   ],
   "source": [
    "#plotting line chart for revenue & profit trends\n",
    "plt.figure(figsize=(10, 6))\n",
    "plt.plot(revenue_profit_trends['fiscal_year'], revenue_profit_trends['total_revenue'], label='Total Revenue', marker='o')\n",
    "plt.plot(revenue_profit_trends['fiscal_year'], revenue_profit_trends['total_profit'], label='Total Profit', marker='s')\n",
    "plt.plot(revenue_profit_trends['fiscal_year'], revenue_profit_trends['total_quantity'], label='Quantity Sold', marker='^')\n",
    "plt.title(\"Revenue, Profit, and Quantity Over Time\")\n",
    "plt.xlabel(\"Year\")\n",
    "plt.ylabel(\"Amount\")\n",
    "plt.legend()\n",
    "plt.grid()\n",
    "plt.show()"
   ]
  },
  {
   "cell_type": "markdown",
   "id": "222ac1c5-74cd-4353-882a-8250e9607c76",
   "metadata": {},
   "source": [
    "Based on the graph above:\n",
    "\n",
    "Key findings:\n",
    "- Revenue and profit have shown steady growth over the years.\n",
    "- The highest revenue was recorded in 2022, with a significant increase from previous years.\n",
    "- Both revenue and profit have more than doubled from 2018 to 2022.\n",
    "- Quantity sold has also increased overall but not as sharply as revenue, especially between 2020 and 2021.\n",
    "- In 2022, all three metrics—revenue, profit, and quantity—rose together, indicating broad-based growth.\n",
    "\n",
    "Implications:\n",
    "- The company has experienced strong financial growth, suggesting an expanding market presence and increased sales.\n",
    "- The upward trend in profit suggests that AtliQ Hardware has managed to control costs and maintain a healthy profit margin.\n",
    "- The synchronized rise of quantity and revenue in 2022 signals strong market demand supported by both volume and value growth."
   ]
  },
  {
   "cell_type": "markdown",
   "id": "a335d540-15f0-44cf-87e4-622fc7b7cad6",
   "metadata": {},
   "source": [
    "#### 2.3. Profitability by Product Category calculations"
   ]
  },
  {
   "cell_type": "markdown",
   "id": "d541eda6-c3e4-45e8-8ff3-c224e63ba2bd",
   "metadata": {},
   "source": [
    "Total Revenue (`total_revenue`) = `sold_quantity` * `gross_price` * (1 - `pre_invoice_discount_pct`)\n",
    "\n",
    "Total Profit (`total_profit`) = (`gross_price` * (1 - `pre_invoice_discount_pct`) - `manufacturing_cost`) * `sold_quantity`\n",
    "\n",
    "Profit Margin (`profit_margin`) = (`total_profit` / `total_revenue`) * 100"
   ]
  },
  {
   "cell_type": "code",
   "execution_count": 43,
   "id": "6b9391d2-8690-4706-b7ee-3b7af2941960",
   "metadata": {},
   "outputs": [
    {
     "data": {
      "text/html": [
       "<div>\n",
       "<style scoped>\n",
       "    .dataframe tbody tr th:only-of-type {\n",
       "        vertical-align: middle;\n",
       "    }\n",
       "\n",
       "    .dataframe tbody tr th {\n",
       "        vertical-align: top;\n",
       "    }\n",
       "\n",
       "    .dataframe thead th {\n",
       "        text-align: right;\n",
       "    }\n",
       "</style>\n",
       "<table border=\"1\" class=\"dataframe\">\n",
       "  <thead>\n",
       "    <tr style=\"text-align: right;\">\n",
       "      <th></th>\n",
       "      <th>category</th>\n",
       "      <th>total_revenue</th>\n",
       "      <th>total_profit</th>\n",
       "      <th>profit_margin</th>\n",
       "    </tr>\n",
       "  </thead>\n",
       "  <tbody>\n",
       "    <tr>\n",
       "      <th>0</th>\n",
       "      <td>Graphic Card</td>\n",
       "      <td>9.270679e+06</td>\n",
       "      <td>5.714228e+06</td>\n",
       "      <td>61.637642</td>\n",
       "    </tr>\n",
       "    <tr>\n",
       "      <th>1</th>\n",
       "      <td>Internal HDD</td>\n",
       "      <td>5.704170e+07</td>\n",
       "      <td>3.490851e+07</td>\n",
       "      <td>61.198234</td>\n",
       "    </tr>\n",
       "    <tr>\n",
       "      <th>2</th>\n",
       "      <td>Wi fi extender</td>\n",
       "      <td>0.000000e+00</td>\n",
       "      <td>0.000000e+00</td>\n",
       "      <td>0.000000</td>\n",
       "    </tr>\n",
       "    <tr>\n",
       "      <th>3</th>\n",
       "      <td>USB Flash Drives</td>\n",
       "      <td>0.000000e+00</td>\n",
       "      <td>0.000000e+00</td>\n",
       "      <td>0.000000</td>\n",
       "    </tr>\n",
       "    <tr>\n",
       "      <th>4</th>\n",
       "      <td>Processors</td>\n",
       "      <td>0.000000e+00</td>\n",
       "      <td>0.000000e+00</td>\n",
       "      <td>0.000000</td>\n",
       "    </tr>\n",
       "    <tr>\n",
       "      <th>5</th>\n",
       "      <td>Personal Laptop</td>\n",
       "      <td>0.000000e+00</td>\n",
       "      <td>0.000000e+00</td>\n",
       "      <td>0.000000</td>\n",
       "    </tr>\n",
       "    <tr>\n",
       "      <th>6</th>\n",
       "      <td>Personal Desktop</td>\n",
       "      <td>0.000000e+00</td>\n",
       "      <td>0.000000e+00</td>\n",
       "      <td>0.000000</td>\n",
       "    </tr>\n",
       "    <tr>\n",
       "      <th>7</th>\n",
       "      <td>Mouse</td>\n",
       "      <td>0.000000e+00</td>\n",
       "      <td>0.000000e+00</td>\n",
       "      <td>0.000000</td>\n",
       "    </tr>\n",
       "    <tr>\n",
       "      <th>8</th>\n",
       "      <td>MotherBoard</td>\n",
       "      <td>0.000000e+00</td>\n",
       "      <td>0.000000e+00</td>\n",
       "      <td>0.000000</td>\n",
       "    </tr>\n",
       "    <tr>\n",
       "      <th>9</th>\n",
       "      <td>Keyboard</td>\n",
       "      <td>0.000000e+00</td>\n",
       "      <td>0.000000e+00</td>\n",
       "      <td>0.000000</td>\n",
       "    </tr>\n",
       "    <tr>\n",
       "      <th>10</th>\n",
       "      <td>Gaming Laptop</td>\n",
       "      <td>0.000000e+00</td>\n",
       "      <td>0.000000e+00</td>\n",
       "      <td>0.000000</td>\n",
       "    </tr>\n",
       "    <tr>\n",
       "      <th>11</th>\n",
       "      <td>External Solid State Drives</td>\n",
       "      <td>0.000000e+00</td>\n",
       "      <td>0.000000e+00</td>\n",
       "      <td>0.000000</td>\n",
       "    </tr>\n",
       "    <tr>\n",
       "      <th>12</th>\n",
       "      <td>Business Laptop</td>\n",
       "      <td>0.000000e+00</td>\n",
       "      <td>0.000000e+00</td>\n",
       "      <td>0.000000</td>\n",
       "    </tr>\n",
       "    <tr>\n",
       "      <th>13</th>\n",
       "      <td>Batteries</td>\n",
       "      <td>0.000000e+00</td>\n",
       "      <td>0.000000e+00</td>\n",
       "      <td>0.000000</td>\n",
       "    </tr>\n",
       "  </tbody>\n",
       "</table>\n",
       "</div>"
      ],
      "text/plain": [
       "                       category  total_revenue  total_profit  profit_margin\n",
       "0                  Graphic Card   9.270679e+06  5.714228e+06      61.637642\n",
       "1                  Internal HDD   5.704170e+07  3.490851e+07      61.198234\n",
       "2                Wi fi extender   0.000000e+00  0.000000e+00       0.000000\n",
       "3              USB Flash Drives   0.000000e+00  0.000000e+00       0.000000\n",
       "4                    Processors   0.000000e+00  0.000000e+00       0.000000\n",
       "5               Personal Laptop   0.000000e+00  0.000000e+00       0.000000\n",
       "6              Personal Desktop   0.000000e+00  0.000000e+00       0.000000\n",
       "7                         Mouse   0.000000e+00  0.000000e+00       0.000000\n",
       "8                   MotherBoard   0.000000e+00  0.000000e+00       0.000000\n",
       "9                      Keyboard   0.000000e+00  0.000000e+00       0.000000\n",
       "10                Gaming Laptop   0.000000e+00  0.000000e+00       0.000000\n",
       "11  External Solid State Drives   0.000000e+00  0.000000e+00       0.000000\n",
       "12              Business Laptop   0.000000e+00  0.000000e+00       0.000000\n",
       "13                    Batteries   0.000000e+00  0.000000e+00       0.000000"
      ]
     },
     "metadata": {},
     "output_type": "display_data"
    }
   ],
   "source": [
    "#SQL query to compute profitability by product category\n",
    "query_category_profit = \"\"\"\n",
    "SELECT \n",
    "    dp.category,\n",
    "    COALESCE(SUM(fs.sold_quantity * fg.gross_price * (1 - COALESCE(fpd.pre_invoice_discount_pct, 0))), 0) AS total_revenue,\n",
    "    COALESCE(SUM((fg.gross_price * (1 - COALESCE(fpd.pre_invoice_discount_pct, 0)) - fmc.manufacturing_cost) * fs.sold_quantity), 0) AS total_profit,\n",
    "    CASE \n",
    "        WHEN SUM(fs.sold_quantity * fg.gross_price * (1 - COALESCE(fpd.pre_invoice_discount_pct, 0))) > 0 THEN\n",
    "            (SUM((fg.gross_price * (1 - COALESCE(fpd.pre_invoice_discount_pct, 0)) - fmc.manufacturing_cost) * fs.sold_quantity) * 100.0) /\n",
    "            SUM(fs.sold_quantity * fg.gross_price * (1 - COALESCE(fpd.pre_invoice_discount_pct, 0)))\n",
    "        ELSE 0\n",
    "    END AS profit_margin\n",
    "FROM dim_product dp\n",
    "LEFT JOIN fact_sales_monthly fs ON dp.product_code = fs.product_code\n",
    "LEFT JOIN fact_gross_price fg ON fs.product_code = fg.product_code AND fs.fiscal_year = fg.fiscal_year\n",
    "LEFT JOIN fact_manufacturing_cost fmc ON fs.product_code = fmc.product_code AND fs.fiscal_year = fmc.cost_year\n",
    "LEFT JOIN fact_pre_discount fpd ON fs.customer_code = fpd.customer_code AND fs.fiscal_year = fpd.fiscal_year\n",
    "GROUP BY dp.category\n",
    "ORDER BY profit_margin DESC;\n",
    "\"\"\"\n",
    "#executing query\n",
    "category_profit = pd.read_sql_query(query_category_profit, con)\n",
    "#displaying results\n",
    "display(category_profit)"
   ]
  },
  {
   "cell_type": "markdown",
   "id": "e3983763-b513-4928-8d63-f6f6aabfe788",
   "metadata": {},
   "source": [
    "Over the years, only two categories have been profitable."
   ]
  },
  {
   "cell_type": "markdown",
   "id": "ab55953a-2da7-4271-a745-d2d4010eed42",
   "metadata": {},
   "source": [
    "#### 2.4. Profitability by Product Category visualization"
   ]
  },
  {
   "cell_type": "code",
   "execution_count": 48,
   "id": "aa897ec7-0d0e-4710-8eb1-657ac1f32caf",
   "metadata": {},
   "outputs": [
    {
     "data": {
      "image/png": "[encoded data removed]",
      "text/plain": [
       "<Figure size 1000x500 with 1 Axes>"
      ]
     },
     "metadata": {},
     "output_type": "display_data"
    }
   ],
   "source": [
    "plt.figure(figsize=(10, 5))\n",
    "plt.bar(category_profit['category'], category_profit['profit_margin'], color='skyblue')\n",
    "plt.xlabel(\"Product Category\")\n",
    "plt.ylabel(\"Profit Margin (%)\")\n",
    "plt.title(\"Profitability by Product Category\")\n",
    "plt.xticks(rotation=45)\n",
    "plt.grid(axis='y')\n",
    "plt.show()"
   ]
  },
  {
   "cell_type": "markdown",
   "id": "3ae99ea5-a981-47dc-b35d-dc64e342277a",
   "metadata": {},
   "source": [
    "Based on the graph above:\n",
    "\n",
    "Key Findings:\n",
    "- Graphic Cards had the highest profit margin (`~61.6%`).\n",
    "- Internal HDDs also had a high profit margin (`~61.2%`).\n",
    "- A few categories from the product list appear to have no sales activity, indicating potential gaps in market reach or underperforming SKUs.\n",
    "\n",
    "Implications:\n",
    "- The company should focus on high-margin products like Graphic Cards and Internal HDDs to maximize profitability."
   ]
  },
  {
   "cell_type": "markdown",
   "id": "172be603-20a8-41c6-87a8-243410f6f711",
   "metadata": {},
   "source": [
    "#### 2.5. Manufacturing Cost vs. Price trends analysis"
   ]
  },
  {
   "cell_type": "markdown",
   "id": "db6d1bbf-1d87-4935-8ae7-9f1d5a3da67d",
   "metadata": {},
   "source": [
    "Median Manufacturing Cost (`manufacturing_cost`) is being compared with Median Gross Price (`gross_price`)."
   ]
  },
  {
   "cell_type": "code",
   "execution_count": 54,
   "id": "44424df1-05aa-4855-98e3-0f62776a1726",
   "metadata": {},
   "outputs": [
    {
     "data": {
      "text/html": [
       "<div>\n",
       "<style scoped>\n",
       "    .dataframe tbody tr th:only-of-type {\n",
       "        vertical-align: middle;\n",
       "    }\n",
       "\n",
       "    .dataframe tbody tr th {\n",
       "        vertical-align: top;\n",
       "    }\n",
       "\n",
       "    .dataframe thead th {\n",
       "        text-align: right;\n",
       "    }\n",
       "</style>\n",
       "<table border=\"1\" class=\"dataframe\">\n",
       "  <thead>\n",
       "    <tr style=\"text-align: right;\">\n",
       "      <th></th>\n",
       "      <th>year</th>\n",
       "      <th>manufacturing_cost</th>\n",
       "      <th>gross_price</th>\n",
       "    </tr>\n",
       "  </thead>\n",
       "  <tbody>\n",
       "    <tr>\n",
       "      <th>0</th>\n",
       "      <td>2018</td>\n",
       "      <td>4.6190</td>\n",
       "      <td>15.3952</td>\n",
       "    </tr>\n",
       "    <tr>\n",
       "      <th>1</th>\n",
       "      <td>2019</td>\n",
       "      <td>4.2033</td>\n",
       "      <td>14.4392</td>\n",
       "    </tr>\n",
       "    <tr>\n",
       "      <th>2</th>\n",
       "      <td>2020</td>\n",
       "      <td>5.0207</td>\n",
       "      <td>16.2323</td>\n",
       "    </tr>\n",
       "    <tr>\n",
       "      <th>3</th>\n",
       "      <td>2021</td>\n",
       "      <td>5.5172</td>\n",
       "      <td>19.0573</td>\n",
       "    </tr>\n",
       "    <tr>\n",
       "      <th>4</th>\n",
       "      <td>2022</td>\n",
       "      <td>7.1831</td>\n",
       "      <td>23.9920</td>\n",
       "    </tr>\n",
       "  </tbody>\n",
       "</table>\n",
       "</div>"
      ],
      "text/plain": [
       "   year  manufacturing_cost  gross_price\n",
       "0  2018              4.6190      15.3952\n",
       "1  2019              4.2033      14.4392\n",
       "2  2020              5.0207      16.2323\n",
       "3  2021              5.5172      19.0573\n",
       "4  2022              7.1831      23.9920"
      ]
     },
     "metadata": {},
     "output_type": "display_data"
    }
   ],
   "source": [
    "#SQL query to compare manufacturing cost and gross price trends over time\n",
    "query_cost_vs_price = \"\"\"\n",
    "SELECT \n",
    "    fmc.cost_year AS year,\n",
    "    fmc.manufacturing_cost,\n",
    "    fg.gross_price\n",
    "FROM fact_manufacturing_cost fmc\n",
    "JOIN fact_gross_price fg ON fmc.product_code = fg.product_code AND fmc.cost_year = fg.fiscal_year\n",
    "GROUP BY fmc.cost_year\n",
    "ORDER BY fmc.cost_year;\n",
    "\"\"\"\n",
    "#executing query\n",
    "cost_vs_price_trends = pd.read_sql_query(query_cost_vs_price, con)\n",
    "\n",
    "#calculating median per year\n",
    "median_cost_price = cost_vs_price_trends.groupby('year').median().reset_index()\n",
    "\n",
    "#displaying results\n",
    "display(median_cost_price)"
   ]
  },
  {
   "cell_type": "markdown",
   "id": "ce30346e-0a9a-4e2e-b1ff-591c0c7acd1e",
   "metadata": {},
   "source": [
    "#### 2.6. Manufacturing Cost vs. Price trends visualization"
   ]
  },
  {
   "cell_type": "code",
   "execution_count": 58,
   "id": "055d3dc8-bb1f-496a-a124-6ee4dda2a855",
   "metadata": {},
   "outputs": [
    {
     "data": {
      "image/png": "[encoded data removed]",
      "text/plain": [
       "<Figure size 1000x500 with 1 Axes>"
      ]
     },
     "metadata": {},
     "output_type": "display_data"
    }
   ],
   "source": [
    "#plotting line charts for comparing cost and price\n",
    "plt.figure(figsize=(10, 5))\n",
    "plt.plot(median_cost_price['year'], median_cost_price['manufacturing_cost'], marker='o', label='Median Manufacturing Cost', linestyle='-')\n",
    "plt.plot(median_cost_price['year'], median_cost_price['gross_price'], marker='s', label='Median Gross Price', linestyle='--')\n",
    "plt.xlabel(\"Year\")\n",
    "plt.ylabel(\"Price\")\n",
    "plt.title(\"Median Manufacturing Cost vs Median Gross Price\")\n",
    "plt.legend()\n",
    "plt.grid()\n",
    "plt.show()"
   ]
  },
  {
   "cell_type": "markdown",
   "id": "b4ee6a8c-6dfb-43d4-8375-480373152498",
   "metadata": {},
   "source": [
    "Based on the graph above it's can be concluded:\n",
    "\n",
    "Key findings:\n",
    "- Median manufacturing costs and gross prices have both increased steadily over time.\n",
    "- The median gross price has increased at a faster rate than the median manufacturing cost, suggesting improved profitability on a typical product.\n",
    "- There were notable increases in cost between 2020 and 2022, likely driven by supply chain pressures or economic inflation.\n",
    "\n",
    "Implications:\n",
    "- The company appears to be adjusting prices in line with production costs, preserving profit margins across most products.\n",
    "- Median-based analysis confirms that typical product pricing remains profitable, offering confidence in the company’s pricing strategy."
   ]
  },
  {
   "cell_type": "markdown",
   "id": "7eaf629e-7687-499f-9150-efd003d54a37",
   "metadata": {},
   "source": [
    "#### 2.7. Seasonality analysis"
   ]
  },
  {
   "cell_type": "code",
   "execution_count": 61,
   "id": "ceea63eb-ca8c-4e5a-8485-22d1e75566fe",
   "metadata": {},
   "outputs": [
    {
     "data": {
      "text/html": [
       "<div>\n",
       "<style scoped>\n",
       "    .dataframe tbody tr th:only-of-type {\n",
       "        vertical-align: middle;\n",
       "    }\n",
       "\n",
       "    .dataframe tbody tr th {\n",
       "        vertical-align: top;\n",
       "    }\n",
       "\n",
       "    .dataframe thead th {\n",
       "        text-align: right;\n",
       "    }\n",
       "</style>\n",
       "<table border=\"1\" class=\"dataframe\">\n",
       "  <thead>\n",
       "    <tr style=\"text-align: right;\">\n",
       "      <th></th>\n",
       "      <th>year</th>\n",
       "      <th>month</th>\n",
       "      <th>total_revenue</th>\n",
       "    </tr>\n",
       "  </thead>\n",
       "  <tbody>\n",
       "    <tr>\n",
       "      <th>0</th>\n",
       "      <td>2017</td>\n",
       "      <td>9</td>\n",
       "      <td>1.535497e+05</td>\n",
       "    </tr>\n",
       "    <tr>\n",
       "      <th>1</th>\n",
       "      <td>2017</td>\n",
       "      <td>10</td>\n",
       "      <td>2.040345e+05</td>\n",
       "    </tr>\n",
       "    <tr>\n",
       "      <th>2</th>\n",
       "      <td>2017</td>\n",
       "      <td>11</td>\n",
       "      <td>2.869923e+05</td>\n",
       "    </tr>\n",
       "    <tr>\n",
       "      <th>3</th>\n",
       "      <td>2017</td>\n",
       "      <td>12</td>\n",
       "      <td>2.907563e+05</td>\n",
       "    </tr>\n",
       "    <tr>\n",
       "      <th>4</th>\n",
       "      <td>2018</td>\n",
       "      <td>1</td>\n",
       "      <td>1.581922e+05</td>\n",
       "    </tr>\n",
       "    <tr>\n",
       "      <th>5</th>\n",
       "      <td>2018</td>\n",
       "      <td>2</td>\n",
       "      <td>1.607570e+05</td>\n",
       "    </tr>\n",
       "    <tr>\n",
       "      <th>6</th>\n",
       "      <td>2018</td>\n",
       "      <td>3</td>\n",
       "      <td>1.713842e+05</td>\n",
       "    </tr>\n",
       "    <tr>\n",
       "      <th>7</th>\n",
       "      <td>2018</td>\n",
       "      <td>4</td>\n",
       "      <td>1.660552e+05</td>\n",
       "    </tr>\n",
       "    <tr>\n",
       "      <th>8</th>\n",
       "      <td>2018</td>\n",
       "      <td>5</td>\n",
       "      <td>1.596157e+05</td>\n",
       "    </tr>\n",
       "    <tr>\n",
       "      <th>9</th>\n",
       "      <td>2018</td>\n",
       "      <td>6</td>\n",
       "      <td>1.646238e+05</td>\n",
       "    </tr>\n",
       "    <tr>\n",
       "      <th>10</th>\n",
       "      <td>2018</td>\n",
       "      <td>7</td>\n",
       "      <td>1.612272e+05</td>\n",
       "    </tr>\n",
       "    <tr>\n",
       "      <th>11</th>\n",
       "      <td>2018</td>\n",
       "      <td>8</td>\n",
       "      <td>1.659956e+05</td>\n",
       "    </tr>\n",
       "    <tr>\n",
       "      <th>12</th>\n",
       "      <td>2018</td>\n",
       "      <td>9</td>\n",
       "      <td>3.915560e+05</td>\n",
       "    </tr>\n",
       "    <tr>\n",
       "      <th>13</th>\n",
       "      <td>2018</td>\n",
       "      <td>10</td>\n",
       "      <td>4.844486e+05</td>\n",
       "    </tr>\n",
       "    <tr>\n",
       "      <th>14</th>\n",
       "      <td>2018</td>\n",
       "      <td>11</td>\n",
       "      <td>6.216352e+05</td>\n",
       "    </tr>\n",
       "    <tr>\n",
       "      <th>15</th>\n",
       "      <td>2018</td>\n",
       "      <td>12</td>\n",
       "      <td>6.723937e+05</td>\n",
       "    </tr>\n",
       "    <tr>\n",
       "      <th>16</th>\n",
       "      <td>2019</td>\n",
       "      <td>1</td>\n",
       "      <td>3.812012e+05</td>\n",
       "    </tr>\n",
       "    <tr>\n",
       "      <th>17</th>\n",
       "      <td>2019</td>\n",
       "      <td>2</td>\n",
       "      <td>3.900117e+05</td>\n",
       "    </tr>\n",
       "    <tr>\n",
       "      <th>18</th>\n",
       "      <td>2019</td>\n",
       "      <td>3</td>\n",
       "      <td>3.696722e+05</td>\n",
       "    </tr>\n",
       "    <tr>\n",
       "      <th>19</th>\n",
       "      <td>2019</td>\n",
       "      <td>4</td>\n",
       "      <td>3.790614e+05</td>\n",
       "    </tr>\n",
       "    <tr>\n",
       "      <th>20</th>\n",
       "      <td>2019</td>\n",
       "      <td>5</td>\n",
       "      <td>3.847636e+05</td>\n",
       "    </tr>\n",
       "    <tr>\n",
       "      <th>21</th>\n",
       "      <td>2019</td>\n",
       "      <td>6</td>\n",
       "      <td>3.781270e+05</td>\n",
       "    </tr>\n",
       "    <tr>\n",
       "      <th>22</th>\n",
       "      <td>2019</td>\n",
       "      <td>7</td>\n",
       "      <td>3.459090e+05</td>\n",
       "    </tr>\n",
       "    <tr>\n",
       "      <th>23</th>\n",
       "      <td>2019</td>\n",
       "      <td>8</td>\n",
       "      <td>3.364432e+05</td>\n",
       "    </tr>\n",
       "    <tr>\n",
       "      <th>24</th>\n",
       "      <td>2019</td>\n",
       "      <td>9</td>\n",
       "      <td>8.814634e+05</td>\n",
       "    </tr>\n",
       "    <tr>\n",
       "      <th>25</th>\n",
       "      <td>2019</td>\n",
       "      <td>10</td>\n",
       "      <td>1.078313e+06</td>\n",
       "    </tr>\n",
       "    <tr>\n",
       "      <th>26</th>\n",
       "      <td>2019</td>\n",
       "      <td>11</td>\n",
       "      <td>1.488824e+06</td>\n",
       "    </tr>\n",
       "    <tr>\n",
       "      <th>27</th>\n",
       "      <td>2019</td>\n",
       "      <td>12</td>\n",
       "      <td>1.573510e+06</td>\n",
       "    </tr>\n",
       "    <tr>\n",
       "      <th>28</th>\n",
       "      <td>2020</td>\n",
       "      <td>1</td>\n",
       "      <td>8.616191e+05</td>\n",
       "    </tr>\n",
       "    <tr>\n",
       "      <th>29</th>\n",
       "      <td>2020</td>\n",
       "      <td>2</td>\n",
       "      <td>8.443420e+05</td>\n",
       "    </tr>\n",
       "    <tr>\n",
       "      <th>30</th>\n",
       "      <td>2020</td>\n",
       "      <td>3</td>\n",
       "      <td>1.176236e+05</td>\n",
       "    </tr>\n",
       "    <tr>\n",
       "      <th>31</th>\n",
       "      <td>2020</td>\n",
       "      <td>4</td>\n",
       "      <td>3.963279e+05</td>\n",
       "    </tr>\n",
       "    <tr>\n",
       "      <th>32</th>\n",
       "      <td>2020</td>\n",
       "      <td>5</td>\n",
       "      <td>4.966123e+05</td>\n",
       "    </tr>\n",
       "    <tr>\n",
       "      <th>33</th>\n",
       "      <td>2020</td>\n",
       "      <td>6</td>\n",
       "      <td>7.619005e+05</td>\n",
       "    </tr>\n",
       "    <tr>\n",
       "      <th>34</th>\n",
       "      <td>2020</td>\n",
       "      <td>7</td>\n",
       "      <td>7.952898e+05</td>\n",
       "    </tr>\n",
       "    <tr>\n",
       "      <th>35</th>\n",
       "      <td>2020</td>\n",
       "      <td>8</td>\n",
       "      <td>8.168667e+05</td>\n",
       "    </tr>\n",
       "    <tr>\n",
       "      <th>36</th>\n",
       "      <td>2020</td>\n",
       "      <td>9</td>\n",
       "      <td>1.377613e+06</td>\n",
       "    </tr>\n",
       "    <tr>\n",
       "      <th>37</th>\n",
       "      <td>2020</td>\n",
       "      <td>10</td>\n",
       "      <td>1.739148e+06</td>\n",
       "    </tr>\n",
       "    <tr>\n",
       "      <th>38</th>\n",
       "      <td>2020</td>\n",
       "      <td>11</td>\n",
       "      <td>2.301491e+06</td>\n",
       "    </tr>\n",
       "    <tr>\n",
       "      <th>39</th>\n",
       "      <td>2020</td>\n",
       "      <td>12</td>\n",
       "      <td>2.480902e+06</td>\n",
       "    </tr>\n",
       "    <tr>\n",
       "      <th>40</th>\n",
       "      <td>2021</td>\n",
       "      <td>1</td>\n",
       "      <td>1.370757e+06</td>\n",
       "    </tr>\n",
       "    <tr>\n",
       "      <th>41</th>\n",
       "      <td>2021</td>\n",
       "      <td>2</td>\n",
       "      <td>1.385697e+06</td>\n",
       "    </tr>\n",
       "    <tr>\n",
       "      <th>42</th>\n",
       "      <td>2021</td>\n",
       "      <td>3</td>\n",
       "      <td>1.353368e+06</td>\n",
       "    </tr>\n",
       "    <tr>\n",
       "      <th>43</th>\n",
       "      <td>2021</td>\n",
       "      <td>4</td>\n",
       "      <td>1.376006e+06</td>\n",
       "    </tr>\n",
       "    <tr>\n",
       "      <th>44</th>\n",
       "      <td>2021</td>\n",
       "      <td>5</td>\n",
       "      <td>1.374812e+06</td>\n",
       "    </tr>\n",
       "    <tr>\n",
       "      <th>45</th>\n",
       "      <td>2021</td>\n",
       "      <td>6</td>\n",
       "      <td>1.335343e+06</td>\n",
       "    </tr>\n",
       "    <tr>\n",
       "      <th>46</th>\n",
       "      <td>2021</td>\n",
       "      <td>7</td>\n",
       "      <td>1.369514e+06</td>\n",
       "    </tr>\n",
       "    <tr>\n",
       "      <th>47</th>\n",
       "      <td>2021</td>\n",
       "      <td>8</td>\n",
       "      <td>1.388713e+06</td>\n",
       "    </tr>\n",
       "    <tr>\n",
       "      <th>48</th>\n",
       "      <td>2021</td>\n",
       "      <td>9</td>\n",
       "      <td>5.211567e+06</td>\n",
       "    </tr>\n",
       "    <tr>\n",
       "      <th>49</th>\n",
       "      <td>2021</td>\n",
       "      <td>10</td>\n",
       "      <td>6.492698e+06</td>\n",
       "    </tr>\n",
       "    <tr>\n",
       "      <th>50</th>\n",
       "      <td>2021</td>\n",
       "      <td>11</td>\n",
       "      <td>8.916103e+06</td>\n",
       "    </tr>\n",
       "    <tr>\n",
       "      <th>51</th>\n",
       "      <td>2021</td>\n",
       "      <td>12</td>\n",
       "      <td>9.347549e+06</td>\n",
       "    </tr>\n",
       "  </tbody>\n",
       "</table>\n",
       "</div>"
      ],
      "text/plain": [
       "    year  month  total_revenue\n",
       "0   2017      9   1.535497e+05\n",
       "1   2017     10   2.040345e+05\n",
       "2   2017     11   2.869923e+05\n",
       "3   2017     12   2.907563e+05\n",
       "4   2018      1   1.581922e+05\n",
       "5   2018      2   1.607570e+05\n",
       "6   2018      3   1.713842e+05\n",
       "7   2018      4   1.660552e+05\n",
       "8   2018      5   1.596157e+05\n",
       "9   2018      6   1.646238e+05\n",
       "10  2018      7   1.612272e+05\n",
       "11  2018      8   1.659956e+05\n",
       "12  2018      9   3.915560e+05\n",
       "13  2018     10   4.844486e+05\n",
       "14  2018     11   6.216352e+05\n",
       "15  2018     12   6.723937e+05\n",
       "16  2019      1   3.812012e+05\n",
       "17  2019      2   3.900117e+05\n",
       "18  2019      3   3.696722e+05\n",
       "19  2019      4   3.790614e+05\n",
       "20  2019      5   3.847636e+05\n",
       "21  2019      6   3.781270e+05\n",
       "22  2019      7   3.459090e+05\n",
       "23  2019      8   3.364432e+05\n",
       "24  2019      9   8.814634e+05\n",
       "25  2019     10   1.078313e+06\n",
       "26  2019     11   1.488824e+06\n",
       "27  2019     12   1.573510e+06\n",
       "28  2020      1   8.616191e+05\n",
       "29  2020      2   8.443420e+05\n",
       "30  2020      3   1.176236e+05\n",
       "31  2020      4   3.963279e+05\n",
       "32  2020      5   4.966123e+05\n",
       "33  2020      6   7.619005e+05\n",
       "34  2020      7   7.952898e+05\n",
       "35  2020      8   8.168667e+05\n",
       "36  2020      9   1.377613e+06\n",
       "37  2020     10   1.739148e+06\n",
       "38  2020     11   2.301491e+06\n",
       "39  2020     12   2.480902e+06\n",
       "40  2021      1   1.370757e+06\n",
       "41  2021      2   1.385697e+06\n",
       "42  2021      3   1.353368e+06\n",
       "43  2021      4   1.376006e+06\n",
       "44  2021      5   1.374812e+06\n",
       "45  2021      6   1.335343e+06\n",
       "46  2021      7   1.369514e+06\n",
       "47  2021      8   1.388713e+06\n",
       "48  2021      9   5.211567e+06\n",
       "49  2021     10   6.492698e+06\n",
       "50  2021     11   8.916103e+06\n",
       "51  2021     12   9.347549e+06"
      ]
     },
     "metadata": {},
     "output_type": "display_data"
    }
   ],
   "source": [
    "#SQL query to analyze seasonality trends (monthly revenue trends)\n",
    "query_seasonality = \"\"\"\n",
    "SELECT \n",
    "    strftime('%Y', fs.date) AS year,\n",
    "    strftime('%m', fs.date) AS month,\n",
    "    SUM(fs.sold_quantity * fg.gross_price * (1 - COALESCE(fpd.pre_invoice_discount_pct, 0))) AS total_revenue\n",
    "FROM fact_sales_monthly fs\n",
    "JOIN fact_gross_price fg ON fs.product_code = fg.product_code AND fs.fiscal_year = fg.fiscal_year\n",
    "LEFT JOIN fact_pre_discount fpd ON fs.customer_code = fpd.customer_code AND fs.fiscal_year = fpd.fiscal_year\n",
    "GROUP BY year, month\n",
    "ORDER BY year, month;\n",
    "\"\"\"\n",
    "#executing query\n",
    "seasonality_trends = pd.read_sql_query(query_seasonality, con)\n",
    "#converting month numbers to month names\n",
    "seasonality_trends['month'] = seasonality_trends['month'].astype(int)\n",
    "#displaying results\n",
    "display(seasonality_trends)"
   ]
  },
  {
   "cell_type": "markdown",
   "id": "1de2e711-49e7-432a-9703-707f92e822cf",
   "metadata": {},
   "source": [
    "#### 2.8. Seasonality visualization"
   ]
  },
  {
   "cell_type": "code",
   "execution_count": 63,
   "id": "4aa01835-196f-4951-8194-09437217085c",
   "metadata": {},
   "outputs": [
    {
     "data": {
      "text/plain": [
       "<Figure size 1200x600 with 0 Axes>"
      ]
     },
     "metadata": {},
     "output_type": "display_data"
    },
    {
     "data": {
      "image/png": "[encoded data removed]",
      "text/plain": [
       "<Figure size 640x480 with 1 Axes>"
      ]
     },
     "metadata": {},
     "output_type": "display_data"
    }
   ],
   "source": [
    "#pivot the data for multi-line plotting\n",
    "seasonality_pivot = seasonality_trends.pivot(index='month', columns='year', values='total_revenue')\n",
    "\n",
    "#plotting bar chart for showing seasonality trends\n",
    "plt.figure(figsize=(12, 6))\n",
    "seasonality_pivot.plot(marker='o')\n",
    "plt.title(\"Monthly Revenue Trends by Year\")\n",
    "plt.xlabel(\"Month\")\n",
    "plt.ylabel(\"Total Revenue (After Discounts)\")\n",
    "plt.xticks(ticks=range(1, 13), labels=[\n",
    "    'Jan', 'Feb', 'Mar', 'Apr', 'May', 'Jun', \n",
    "    'Jul', 'Aug', 'Sep', 'Oct', 'Nov', 'Dec'])\n",
    "plt.grid(True)\n",
    "plt.legend(title='Year')\n",
    "plt.tight_layout()\n",
    "plt.show()"
   ]
  },
  {
   "cell_type": "markdown",
   "id": "b0e44ac4-d34a-47ed-96b5-478a61046020",
   "metadata": {},
   "source": [
    "The graph above displays:\n",
    "\n",
    "Key findings:\n",
    "- December consistently had the highest revenue across all years, confirming a strong end-of-year seasonal demand.\n",
    "- October and November also show elevated revenues, forming a clear Q4 peak each year.\n",
    "- March and April remain low-performing months, with dips repeating in multiple years.\n",
    "- Some variation is seen between years, but the overall seasonal trend is stable, indicating a reliable annual sales cycle.\n",
    "\n",
    "Implications:\n",
    "- The company should continue to focus marketing and logistics around Q4, especially for holiday-season campaigns.\n",
    "- Production and inventory planning should anticipate a slowdown in March–April, potentially using the time to optimize internal operations or launch off-peak promotions.\n",
    "- Understanding these year-over-year trends allows for better forecasting and more responsive business planning."
   ]
  },
  {
   "cell_type": "markdown",
   "id": "87d447d0-d062-4e21-a41a-547eec2fe952",
   "metadata": {},
   "source": [
    "#### 2.9 Loss-making segments"
   ]
  },
  {
   "cell_type": "markdown",
   "id": "37c66c8a-466c-4d69-bebd-d74b0984cf8f",
   "metadata": {},
   "source": [
    "To support strategic business insights, region and category combinations were analyzed to understand which exactly consistently generated negative profit across the dataset.\n",
    "\n",
    "This analysis helps identify:\n",
    "- Product lines that are potentially priced too low\n",
    "- Regional operations with high costs or insufficient revenue\n",
    "- Segments that may need optimization, re-pricing, or exit decisions\n",
    "\n",
    "By pinpointing these unprofitable areas, the company can reduce financial drag and improve overall profitability."
   ]
  },
  {
   "cell_type": "code",
   "execution_count": 69,
   "id": "3cf283c7-e26c-4454-8309-569cf0bd8755",
   "metadata": {},
   "outputs": [
    {
     "data": {
      "text/html": [
       "<div>\n",
       "<style scoped>\n",
       "    .dataframe tbody tr th:only-of-type {\n",
       "        vertical-align: middle;\n",
       "    }\n",
       "\n",
       "    .dataframe tbody tr th {\n",
       "        vertical-align: top;\n",
       "    }\n",
       "\n",
       "    .dataframe thead th {\n",
       "        text-align: right;\n",
       "    }\n",
       "</style>\n",
       "<table border=\"1\" class=\"dataframe\">\n",
       "  <thead>\n",
       "    <tr style=\"text-align: right;\">\n",
       "      <th></th>\n",
       "      <th>region</th>\n",
       "      <th>category</th>\n",
       "      <th>total_revenue</th>\n",
       "      <th>total_profit</th>\n",
       "    </tr>\n",
       "  </thead>\n",
       "  <tbody>\n",
       "  </tbody>\n",
       "</table>\n",
       "</div>"
      ],
      "text/plain": [
       "Empty DataFrame\n",
       "Columns: [region, category, total_revenue, total_profit]\n",
       "Index: []"
      ]
     },
     "metadata": {},
     "output_type": "display_data"
    }
   ],
   "source": [
    "#SQL query to identify region-category pairs with negative total profit\n",
    "query_loss_by_region_category = '''\n",
    "SELECT dc.region, dp.category,\n",
    "    SUM(fs.sold_quantity * fg.gross_price * (1 - COALESCE(fpd.pre_invoice_discount_pct, 0))) AS total_revenue,\n",
    "    SUM((fg.gross_price * (1 - COALESCE(fpd.pre_invoice_discount_pct, 0)) - fmc.manufacturing_cost) * fs.sold_quantity) AS total_profit\n",
    "FROM fact_sales_monthly fs\n",
    "JOIN dim_customer dc ON fs.customer_code = dc.customer_code\n",
    "JOIN dim_product dp ON fs.product_code = dp.product_code\n",
    "JOIN fact_gross_price fg ON fs.product_code = fg.product_code AND fs.fiscal_year = fg.fiscal_year\n",
    "JOIN fact_manufacturing_cost fmc ON fs.product_code = fmc.product_code AND fs.fiscal_year = fmc.cost_year\n",
    "LEFT JOIN fact_pre_discount fpd ON fs.customer_code = fpd.customer_code AND fs.fiscal_year = fpd.fiscal_year\n",
    "GROUP BY dc.region, dp.category\n",
    "HAVING total_profit < 0;\n",
    "'''\n",
    "#executing query\n",
    "loss_df = pd.read_sql_query(query_loss_by_region_category, con)\n",
    "display(loss_df)"
   ]
  },
  {
   "cell_type": "markdown",
   "id": "313cb8a4-3a67-4d3a-8116-41e5557364f0",
   "metadata": {},
   "source": [
    "Profitability by region and category was analyzed to identify segments with total negative profit. Surprisingly, no combinations showed an overall loss over the analysis period.\n",
    "\n",
    "Interpretation - this suggests that all region-category combinations were profitable in aggregate, indicating effective pricing and cost management."
   ]
  },
  {
   "cell_type": "markdown",
   "id": "1b92cbf4",
   "metadata": {},
   "source": [
    "******"
   ]
  },
  {
   "cell_type": "markdown",
   "id": "433e2219-9a6f-4edc-9c03-9581a32a5824",
   "metadata": {},
   "source": [
    "### Step 3. Hypothesis Testing"
   ]
  },
  {
   "cell_type": "markdown",
   "id": "cc9ba62f-a8ba-464a-b963-89e2c92fb12d",
   "metadata": {},
   "source": [
    "#### 3.1. Hypothesis 1 - Revenue has increased over the years"
   ]
  },
  {
   "cell_type": "markdown",
   "id": "b6dff3d3-96f3-4c83-bf93-972cb8230073",
   "metadata": {},
   "source": [
    "Test - Linear Regression \n",
    "\n",
    "Null Hypothesis (`H₀`): There is no significant increase in revenue over the years.\n",
    "\n",
    "Alternative Hypothesis (`H₁`): Revenue has increased over time.\n",
    "\n",
    "Linear Regression was used, where:\n",
    "- Independent variable (`X`) = Fiscal year\n",
    "- Dependent variable (`Y`) = Average gross price (as a proxy for revenue growth)"
   ]
  },
  {
   "cell_type": "markdown",
   "id": "144d3214-126e-4140-abe1-b27ae7e931b4",
   "metadata": {},
   "source": [
    "Perform Linear Regression Test"
   ]
  },
  {
   "cell_type": "code",
   "execution_count": 79,
   "id": "42404dcf-d753-4444-bc15-5d232f7fc235",
   "metadata": {},
   "outputs": [
    {
     "name": "stdout",
     "output_type": "stream",
     "text": [
      "Slope: 6916760.696296299\n",
      "P-Value: 0.005992515007446958\n",
      "Reject H₀: Revenue has significantly increased over the years.\n"
     ]
    }
   ],
   "source": [
    "#performing linear regression on revenue over the years\n",
    "slope, intercept, r_value, p_value, std_err = linregress(\n",
    "    revenue_profit_trends['fiscal_year'], revenue_profit_trends['total_revenue']\n",
    ")\n",
    "#displaying test results\n",
    "print(f\"Slope: {slope}\")\n",
    "print(f\"P-Value: {p_value}\")\n",
    "#interpretation\n",
    "if p_value < 0.05:\n",
    "    print(\"Reject H₀: Revenue has significantly increased over the years.\")\n",
    "else:\n",
    "    print(\"Fail to reject H₀: No significant increase in revenue.\")"
   ]
  },
  {
   "cell_type": "markdown",
   "id": "81d578ca-ea21-4969-81f3-c613c573448d",
   "metadata": {},
   "source": [
    "Test output:\n",
    "- Slope (`69.7`) → A positive value indicates an upward trend.\n",
    "- P-value (`0.006`) → Since p-value `< 0.05`, we reject the null hypothesis and conclude that revenue has significantly increased over the years."
   ]
  },
  {
   "cell_type": "markdown",
   "id": "448a32ff-2032-48c9-bb8a-23a414164cd5",
   "metadata": {},
   "source": [
    "#### 3.2. Hypothesis 1 - Revenue has increased over the years (visualization)"
   ]
  },
  {
   "cell_type": "code",
   "execution_count": 83,
   "id": "4bb9d344-6645-4506-a7cf-fc88093d1516",
   "metadata": {},
   "outputs": [
    {
     "data": {
      "image/png": "[encoded data removed]",
      "text/plain": [
       "<Figure size 1000x500 with 1 Axes>"
      ]
     },
     "metadata": {},
     "output_type": "display_data"
    }
   ],
   "source": [
    "#plotting linear regression\n",
    "plt.figure(figsize=(10, 5))\n",
    "plt.scatter(revenue_profit_trends['fiscal_year'], revenue_profit_trends['total_revenue'], color='blue', label=\"Revenue Data\")\n",
    "plt.plot(revenue_profit_trends['fiscal_year'], intercept + slope * revenue_profit_trends['fiscal_year'], color='red', label=\"Regression Line\")\n",
    "plt.xlabel(\"Year\")\n",
    "plt.ylabel(\"Total Revenue\")\n",
    "plt.title(\"Revenue Growth Over Years\")\n",
    "plt.legend()\n",
    "plt.grid()\n",
    "plt.show()"
   ]
  },
  {
   "cell_type": "markdown",
   "id": "1d17c1ef-bf94-457a-a414-6cb1a42c33e0",
   "metadata": {},
   "source": [
    "Conclusion:\n",
    "- We reject H₀, confirming that revenue has significantly increased over time.\n",
    "- AtliQ Hardware’s sales are growing, showing strong financial performance.\n",
    "\n",
    "Implications:\n",
    "- The company should continue investing in high-growth product segments.\n",
    "- Further analysis is needed to identify key drivers behind this growth (e.g., new products, increased market share)."
   ]
  },
  {
   "cell_type": "markdown",
   "id": "4582c81b-d5a8-4334-9f7b-67015200f3eb",
   "metadata": {},
   "source": [
    "#### 3.2. Hypothesis 2 - Certain product categories have significantly different profit margins"
   ]
  },
  {
   "cell_type": "markdown",
   "id": "0840c238-cbef-48dd-a2e8-ab182e952690",
   "metadata": {},
   "source": [
    "Test - ANOVA (Analysis of Variance)\n",
    "\n",
    "Null Hypothesis (`H₀`): No significant differences in profit margins across product categories.\n",
    "\n",
    "Alternative Hypothesis (`H₁`): At least one product category has a significantly different profit margin.\n",
    "\n",
    "ANOVA was used, where:\n",
    "- Groups = Different product categories\n",
    "- Metric = Profit margins"
   ]
  },
  {
   "cell_type": "markdown",
   "id": "6e3be05e-80a5-4a69-989a-f2623af7205e",
   "metadata": {},
   "source": [
    "Perform ANOVA test"
   ]
  },
  {
   "cell_type": "code",
   "execution_count": 90,
   "id": "12886944-8705-4fac-bd61-c8fa12ee0c40",
   "metadata": {},
   "outputs": [
    {
     "name": "stdout",
     "output_type": "stream",
     "text": [
      "ANOVA Test Statistic: 0.1473476927269625\n",
      "P-Value: 0.704204249863143\n",
      "Fail to reject H₀: No significant differences in profit margins.\n"
     ]
    }
   ],
   "source": [
    "#performing ANOVA test on profit margins across categories\n",
    "anova_result = f_oneway(category_profit['total_profit'], category_profit['total_revenue'])\n",
    "#displaying test results\n",
    "print(f\"ANOVA Test Statistic: {anova_result.statistic}\")\n",
    "print(f\"P-Value: {anova_result.pvalue}\")\n",
    "#interpretation\n",
    "if anova_result.pvalue < 0.05:\n",
    "    print(\"Reject H₀: Significant differences in profit margins among categories.\")\n",
    "else:\n",
    "    print(\"Fail to reject H₀: No significant differences in profit margins.\")"
   ]
  },
  {
   "cell_type": "markdown",
   "id": "4765eb77-3af7-4802-84b4-0cbc1fc910a5",
   "metadata": {},
   "source": [
    "Test output:\n",
    "- ANOVA Test Statistic (0.147) → Very low variation in profit margins.\n",
    "- P-value (0.704) → Since p-value > 0.05, we fail to reject the null hypothesis, meaning no significant difference in profitability among product categories."
   ]
  },
  {
   "cell_type": "markdown",
   "id": "b62c005b-f3ae-48d3-b8e9-d152b3ed7d52",
   "metadata": {},
   "source": [
    "#### 3.3 Hypothesis 2 - Certain product categories have significantly different profit margins (visualization)"
   ]
  },
  {
   "cell_type": "code",
   "execution_count": 93,
   "id": "4fe10429-50e0-4923-86a5-4447b73b9327",
   "metadata": {},
   "outputs": [
    {
     "data": {
      "image/png": "[encoded data removed]",
      "text/plain": [
       "<Figure size 1000x500 with 1 Axes>"
      ]
     },
     "metadata": {},
     "output_type": "display_data"
    }
   ],
   "source": [
    "#plotting bar charts to compare profit margins\n",
    "plt.figure(figsize=(10, 5))\n",
    "plt.bar(category_profit['category'], category_profit['profit_margin'], color='skyblue')\n",
    "plt.xlabel(\"Product Category\")\n",
    "plt.ylabel(\"Profit Margin (%)\")\n",
    "plt.title(\"Profit Margins by Category\")\n",
    "plt.xticks(rotation=45)\n",
    "plt.grid(axis='y')\n",
    "plt.show()"
   ]
  },
  {
   "cell_type": "markdown",
   "id": "1368f460-aae6-4865-8322-c2c873f3c217",
   "metadata": {},
   "source": [
    "Conclusion:\n",
    "- We fail to reject H₀, meaning profitability is similar across categories.\n",
    "- No statistical evidence that some categories are significantly more profitable than others.\n",
    "\n",
    "Implications:\n",
    "- While some categories show higher profit margins, the differences are not statistically significant.\n",
    "- Further cost and pricing strategies should be explored to improve margins."
   ]
  },
  {
   "cell_type": "markdown",
   "id": "418b533f-b8b0-4d23-986c-4434814a27a6",
   "metadata": {},
   "source": [
    "#### 3.4. Hypothesis 3 - Manufacturing cost does not always correlate with selling price"
   ]
  },
  {
   "cell_type": "markdown",
   "id": "4ce4c1d7-848a-4e1a-80b5-9cb5a6560f1e",
   "metadata": {},
   "source": [
    "Test - Pearson Correlation\n",
    "\n",
    "Null Hypothesis (H₀): No correlation between manufacturing cost and selling price.\n",
    "\n",
    "Alternative Hypothesis (H₁): Manufacturing cost is strongly correlated with selling price.\n",
    "\n",
    "Pearson correlation was used, where:\n",
    "- X = Average manufacturing cost\n",
    "- Y = Average gross price"
   ]
  },
  {
   "cell_type": "markdown",
   "id": "5d15dcd2-1380-4571-8070-b547e3099fac",
   "metadata": {},
   "source": [
    "To validate our Pearson correlation result, potential outliers were identified in both manufacturing cost and gross price using the IQR (Interquartile Range) method."
   ]
  },
  {
   "cell_type": "code",
   "execution_count": 101,
   "id": "ad5b46e5-d60c-4fab-9096-143ead405465",
   "metadata": {},
   "outputs": [],
   "source": [
    "#identifying outliers in manufacturing cost\n",
    "q1_cost = cost_vs_price_trends['manufacturing_cost'].quantile(0.25)\n",
    "q3_cost = cost_vs_price_trends['manufacturing_cost'].quantile(0.75)\n",
    "iqr_cost = q3_cost - q1_cost\n",
    "\n",
    "lower_bound_cost = q1_cost - 1.5 * iqr_cost\n",
    "upper_bound_cost = q3_cost + 1.5 * iqr_cost\n",
    "\n",
    "#for gross price\n",
    "q1_price = cost_vs_price_trends['gross_price'].quantile(0.25)\n",
    "q3_price = cost_vs_price_trends['gross_price'].quantile(0.75)\n",
    "iqr_price = q3_price - q1_price\n",
    "\n",
    "lower_bound_price = q1_price - 1.5 * iqr_price\n",
    "upper_bound_price = q3_price + 1.5 * iqr_price\n",
    "\n",
    "#filtering out outliers from both variables\n",
    "filtered_df = cost_vs_price_trends[\n",
    "    (cost_vs_price_trends['manufacturing_cost'].between(lower_bound_cost, upper_bound_cost)) &\n",
    "    (cost_vs_price_trends['gross_price'].between(lower_bound_price, upper_bound_price))\n",
    "]"
   ]
  },
  {
   "cell_type": "markdown",
   "id": "379e549e-4127-4483-8307-7f0657159a6a",
   "metadata": {},
   "source": [
    "Perform Pearson correlation test"
   ]
  },
  {
   "cell_type": "code",
   "execution_count": 103,
   "id": "403c1616-8d55-4d77-a372-584a03af25a1",
   "metadata": {},
   "outputs": [
    {
     "name": "stdout",
     "output_type": "stream",
     "text": [
      "Filtered Correlation Coefficient: 0.9663781996549682\n",
      "Filtered P-Value: 0.033621800345031705\n",
      "Reject H₀: Strong correlation still exists after removing outliers.\n"
     ]
    }
   ],
   "source": [
    "#performimg correlation on filtered data\n",
    "correlation, corr_p_value = pearsonr(filtered_df['manufacturing_cost'], filtered_df['gross_price'])\n",
    "\n",
    "#displaying test results\n",
    "print(f\"Filtered Correlation Coefficient: {correlation}\")\n",
    "print(f\"Filtered P-Value: {corr_p_value}\")\n",
    "\n",
    "#interpretation\n",
    "if corr_p_value < 0.05:\n",
    "    print(\"Reject H₀: Strong correlation still exists after removing outliers.\")\n",
    "else:\n",
    "    print(\"Fail to reject H₀: Correlation is not significant after removing outliers.\")"
   ]
  },
  {
   "cell_type": "markdown",
   "id": "201421b4-a8e1-4cac-84a1-4f8dbe73a895",
   "metadata": {},
   "source": [
    "Test output:\n",
    "- Correlation coefficient (0.966) → Close to 1, indicating a strong positive correlation.\n",
    "- P-value (0.0336) → Since p-value < 0.05, we reject the null hypothesis, confirming a strong relationship between cost and price."
   ]
  },
  {
   "cell_type": "markdown",
   "id": "725fe69b-10cf-422d-b949-79bb9bf72b59",
   "metadata": {},
   "source": [
    "#### 3.5. Hypothesis 3 - Manufacturing cost does not always correlate with selling price (visualization)"
   ]
  },
  {
   "cell_type": "code",
   "execution_count": 108,
   "id": "565156e2-cc53-4134-86a6-017f2e7ee917",
   "metadata": {},
   "outputs": [
    {
     "data": {
      "image/png": "[encoded data removed]",
      "text/plain": [
       "<Figure size 1000x500 with 1 Axes>"
      ]
     },
     "metadata": {},
     "output_type": "display_data"
    }
   ],
   "source": [
    "#plotting cost vs price correlation\n",
    "plt.figure(figsize=(10, 5))\n",
    "plt.scatter(filtered_df['manufacturing_cost'], filtered_df['gross_price'], color='blue', label=\"Data Points\")\n",
    "plt.xlabel(\"Average Manufacturing Cost\")\n",
    "plt.ylabel(\"Average Gross Price\")\n",
    "plt.title(\"Cost vs Price Correlation\")\n",
    "plt.grid()\n",
    "plt.show()"
   ]
  },
  {
   "cell_type": "markdown",
   "id": "721b0539-04f8-4cbc-804c-a2794a59009e",
   "metadata": {},
   "source": [
    "Conclusion:\n",
    "- We reject H₀, confirming a strong positive correlation between manufacturing cost and selling price.\n",
    "- As production costs increase, selling prices also increase proportionally.\n",
    "\n",
    "Implications:\n",
    "- Pricing strategy is aligned with manufacturing costs, ensuring profitability is maintained.\n",
    "- The company should monitor cost fluctuations (e.g., raw materials, supply chain) to adjust pricing efficiently."
   ]
  },
  {
   "cell_type": "markdown",
   "id": "8cc2f02a-9120-4512-b771-d460bd9cb579",
   "metadata": {},
   "source": [
    "#### 3.6. Hypothesis 4 - Sales follow a seasonal pattern"
   ]
  },
  {
   "cell_type": "markdown",
   "id": "8606aff5-2a51-425a-9779-04007ba6e129",
   "metadata": {},
   "source": [
    "Test - Chi-Square Test\n",
    "\n",
    "Null Hypothesis (H₀): Sales are uniformly distributed across all months (no seasonality).\n",
    "\n",
    "Alternative Hypothesis (H₁): Sales are not evenly distributed (seasonality exists).\n",
    "\n",
    "Chi-Square test was used, where:\n",
    "- Observed = Actual revenue for each month\n",
    "- Expected = Average monthly revenue (if there were no seasonality)"
   ]
  },
  {
   "cell_type": "markdown",
   "id": "a793740b-3322-48a3-8565-d6ed48c4650b",
   "metadata": {},
   "source": [
    "Perform Chi-Square test"
   ]
  },
  {
   "cell_type": "code",
   "execution_count": 114,
   "id": "18d39083-9e14-40fa-8183-a38cb41a6425",
   "metadata": {},
   "outputs": [
    {
     "name": "stdout",
     "output_type": "stream",
     "text": [
      "Chi-Square Statistic: 35941691.155343205\n",
      "P-Value: 0.0\n",
      "Reject H₀: Sales exhibit a seasonal pattern.\n"
     ]
    }
   ],
   "source": [
    "#observing revenue for each month\n",
    "observed = seasonality_trends['total_revenue'].values\n",
    "#expecting revenue if there were no seasonality (equal distribution across months)\n",
    "expected = np.full(len(observed), np.mean(observed))\n",
    "#performing Chi-Square Test\n",
    "chi2_stat, chi2_p_value = chi2_contingency([observed, expected])[:2]\n",
    "#displaying test results\n",
    "print(f\"Chi-Square Statistic: {chi2_stat}\")\n",
    "print(f\"P-Value: {chi2_p_value}\")\n",
    "#interpretation\n",
    "if chi2_p_value < 0.05:\n",
    "    print(\"Reject H₀: Sales exhibit a seasonal pattern.\")\n",
    "else:\n",
    "    print(\"Fail to reject H₀: No strong seasonality detected.\")"
   ]
  },
  {
   "cell_type": "markdown",
   "id": "93e86fa8-e512-4708-89db-b673210d8b35",
   "metadata": {},
   "source": [
    "Test output:\n",
    "- Chi-Square statistic (35941691.15) → High value indicates differences across months.\n",
    "- P-value (0.0) → Since p-value < 0.05, we reject the null hypothesis, meaning there is a seasonal pattern in sales."
   ]
  },
  {
   "cell_type": "markdown",
   "id": "c03c4843-f926-479f-96da-b388619f6c04",
   "metadata": {},
   "source": [
    "#### 3.7. Hypothesis 4 - Sales follow a seasonal pattern (visualization)"
   ]
  },
  {
   "cell_type": "code",
   "execution_count": 117,
   "id": "a083abd4-c025-4e77-b82c-3df88a1c71a2",
   "metadata": {},
   "outputs": [
    {
     "data": {
      "image/png": "[encoded data removed]",
      "text/plain": [
       "<Figure size 1000x500 with 1 Axes>"
      ]
     },
     "metadata": {},
     "output_type": "display_data"
    }
   ],
   "source": [
    "#plotting bar charts for showing seasonal revenue trends\n",
    "plt.figure(figsize=(10, 5))\n",
    "plt.bar(seasonality_trends['month'], seasonality_trends['total_revenue'], color='orange')\n",
    "plt.xlabel(\"Month\")\n",
    "plt.ylabel(\"Total Revenue\")\n",
    "plt.title(\"Seasonal Revenue Trends\")\n",
    "plt.xticks(rotation=45)\n",
    "plt.grid(axis='y')\n",
    "plt.show()"
   ]
  },
  {
   "cell_type": "markdown",
   "id": "35719252-b7af-4d23-a3a9-2b80b9a5849b",
   "metadata": {},
   "source": [
    "Conclusion:\n",
    "- We reject H₀, confirming that sales exhibit a seasonal pattern.\n",
    "- December, November, and October have the highest sales, while March and April see the lowest.\n",
    "\n",
    "Implications:\n",
    "- Q4 (October-December) is the most profitable season, likely due to holiday shopping and promotions.\n",
    "- Marketing and inventory strategies should be optimized to capitalize on peak seasons.\n",
    "- The company should analyze why sales drop in March-April and implement strategies to maintain demand."
   ]
  },
  {
   "cell_type": "markdown",
   "id": "b1b960da-da5d-4691-879a-e4a02f32a1df",
   "metadata": {},
   "source": [
    "### Step 4. Conclusions and Key Takeaways"
   ]
  },
  {
   "cell_type": "markdown",
   "id": "7eacb0cc-7eb8-4094-ae04-def6df6bcebf",
   "metadata": {},
   "source": [
    "#### 4.1. Exploratory Data Analysis Summary"
   ]
  },
  {
   "cell_type": "markdown",
   "id": "8c45e5e8-f746-4044-8a44-16dd6a331ef2",
   "metadata": {},
   "source": [
    "During EDA, we explored AtliQ Hardware's financial data to understand key trends, product profitability, and market performance. The analysis revealed\n",
    "- **Revenue & Profit Growth**: Sales and profits have shown steady growth from 2018 to 2022, confirming AtliQ’s expanding market presence and effective cost control.\n",
    "- **Product Profitability**: Internal HDDs and Graphic Cards have the highest profit margins after adjusting for discounts. Several other categories show limited or no sales.\n",
    "- **Cost vs. Price Trends**: Median-based analysis revealed that typical selling prices consistently track above manufacturing costs, even after accounting for outliers.\n",
    "- **Seasonality in Sales**: Revenue consistently peaks in Q4 (October–December), with the highest sales in December. March and April are low-performing months.\n",
    "- **Loss-Making Segments**: No category-region pairs showed overall loss across all years, but deeper time-based or product-level analysis is recommended for potential micro-losses."
   ]
  },
  {
   "cell_type": "markdown",
   "id": "4c60f95d-d968-493c-a536-3ca8a8e78212",
   "metadata": {},
   "source": [
    "#### 4.2. Hypothesis Testing Summary"
   ]
  },
  {
   "cell_type": "markdown",
   "id": "75b3481e-cbce-4f10-be30-b3c90363c7e0",
   "metadata": {},
   "source": [
    "To validate our observations, we performed four statistical tests:\n",
    "- **Revenue Growth (Linear Regression)** – Confirmed: Revenue shows a statistically significant increase over time.\n",
    "- **Profitability Differences (ANOVA)** – Not confirmed: Margins across categories are not significantly different overall, possibly due to limited variance or data volume in some segments.\n",
    "- **Cost vs. Price Correlation (Pearson’s Correlation)** – Confirmed: Strong correlation was confirmed, and remained high even after outliers were removed.\n",
    "- **Seasonality in Sales (Chi-Square Test)** – Confirmed: Monthly sales distribution is not uniform; Q4 consistently outperforms, confirming strong seasonality."
   ]
  },
  {
   "cell_type": "markdown",
   "id": "12647ba6-c5d7-475f-a13d-1a323eeffe11",
   "metadata": {},
   "source": [
    "#### 4.3. Key Takeaways"
   ]
  },
  {
   "cell_type": "markdown",
   "id": "4ffd0d96-20cc-4249-a45e-21883c411e5b",
   "metadata": {},
   "source": [
    "- **AtliQ Hardware is experiencing sustainable growth**, with strong seasonal cycles supporting revenue spikes, especially in Q4.\n",
    "- **Pricing strategy is well aligned with production costs**, ensuring that profitability is protected despite manufacturing cost increases.\n",
    "- **High-margin products (Internal HDDs, Graphic Cards)** should be prioritized for marketing and inventory planning.\n",
    "- **Low-performing or unsold categories** should be reviewed to assess whether they require product strategy adjustments or promotional support.\n",
    "- **Further segmentation by country and product could unlock hidden inefficiencies** and provide deeper optimization opportunities."
   ]
  },
  {
   "cell_type": "markdown",
   "id": "80ba9144-976a-44fd-84a7-584505718212",
   "metadata": {},
   "source": [
    "### Step 5. Tableau Dashboards"
   ]
  },
  {
   "cell_type": "markdown",
   "id": "14761f4d-b859-41e7-9f2b-33a6159dfd4c",
   "metadata": {},
   "source": [
    "#### 5.1. Data export and dashboard creation"
   ]
  },
  {
   "cell_type": "markdown",
   "id": "e7be67fc-7733-4643-ad27-6275fd0eef84",
   "metadata": {},
   "source": [
    "Using 'to_csv' method, DataFrames with analyzed data are transforming into format, which Tableau can work with.\n",
    "\n",
    "DataFrames with analyzed data going to be re-aggregated according to necessary data for using with Tableau."
   ]
  },
  {
   "cell_type": "code",
   "execution_count": 131,
   "id": "b2e17d78-edce-4aa4-a3f7-f81b108109c3",
   "metadata": {},
   "outputs": [],
   "source": [
    "#revenue and profit trends with category and market filters\n",
    "query_revenue_profit_export = '''\n",
    "SELECT \n",
    "    fs.fiscal_year,\n",
    "    dp.category,\n",
    "    dc.market,\n",
    "    SUM(fs.sold_quantity * fg.gross_price * (1 - COALESCE(fpd.pre_invoice_discount_pct, 0))) AS total_revenue,\n",
    "    SUM((fg.gross_price * (1 - COALESCE(fpd.pre_invoice_discount_pct, 0)) - fmc.manufacturing_cost) * fs.sold_quantity) AS total_profit,\n",
    "    SUM(fs.sold_quantity) AS total_quantity\n",
    "FROM fact_sales_monthly fs\n",
    "JOIN dim_product dp ON fs.product_code = dp.product_code\n",
    "JOIN dim_customer dc ON fs.customer_code = dc.customer_code\n",
    "JOIN fact_gross_price fg ON fs.product_code = fg.product_code AND fs.fiscal_year = fg.fiscal_year\n",
    "JOIN fact_manufacturing_cost fmc ON fs.product_code = fmc.product_code AND fs.fiscal_year = fmc.cost_year\n",
    "LEFT JOIN fact_pre_discount fpd ON fs.customer_code = fpd.customer_code AND fs.fiscal_year = fpd.fiscal_year\n",
    "GROUP BY fs.fiscal_year, dp.category, dc.market\n",
    "ORDER BY fs.fiscal_year;\n",
    "'''\n",
    "revenue_profit_export = pd.read_sql_query(query_revenue_profit_export, con)"
   ]
  },
  {
   "cell_type": "code",
   "execution_count": 132,
   "id": "5a65db22-ee4b-4e34-b44c-2e6fd8ac979f",
   "metadata": {},
   "outputs": [],
   "source": [
    "#profitability by product category with year and market\n",
    "query_category_profit_export = '''\n",
    "SELECT \n",
    "    dp.category,\n",
    "    dc.market,\n",
    "    COALESCE(SUM(fs.sold_quantity * fg.gross_price * (1 - COALESCE(fpd.pre_invoice_discount_pct, 0))), 0) AS total_revenue,\n",
    "    COALESCE(SUM((fg.gross_price * (1 - COALESCE(fpd.pre_invoice_discount_pct, 0)) - fmc.manufacturing_cost) * fs.sold_quantity), 0) AS total_profit,\n",
    "    CASE \n",
    "        WHEN SUM(fs.sold_quantity * fg.gross_price * (1 - COALESCE(fpd.pre_invoice_discount_pct, 0))) > 0 THEN\n",
    "            (SUM((fg.gross_price * (1 - COALESCE(fpd.pre_invoice_discount_pct, 0)) - fmc.manufacturing_cost) * fs.sold_quantity) * 100.0) /\n",
    "            SUM(fs.sold_quantity * fg.gross_price * (1 - COALESCE(fpd.pre_invoice_discount_pct, 0)))\n",
    "        ELSE 0\n",
    "    END AS profit_margin\n",
    "FROM dim_product dp\n",
    "LEFT JOIN fact_sales_monthly fs ON dp.product_code = fs.product_code\n",
    "LEFT JOIN dim_customer dc ON fs.customer_code = dc.customer_code\n",
    "LEFT JOIN fact_gross_price fg ON fs.product_code = fg.product_code AND fs.fiscal_year = fg.fiscal_year\n",
    "LEFT JOIN fact_manufacturing_cost fmc ON fs.product_code = fmc.product_code AND fs.fiscal_year = fmc.cost_year\n",
    "LEFT JOIN fact_pre_discount fpd ON fs.customer_code = fpd.customer_code AND fs.fiscal_year = fpd.fiscal_year\n",
    "GROUP BY dp.category, dc.market\n",
    "ORDER BY profit_margin DESC;\n",
    "'''\n",
    "category_profit_export = pd.read_sql_query(query_category_profit_export, con)"
   ]
  },
  {
   "cell_type": "code",
   "execution_count": 170,
   "id": "45ac03bb-8da6-45ed-b3fd-adccebe1f59a",
   "metadata": {},
   "outputs": [],
   "source": [
    "#cost vs price trends by year\n",
    "query_cost_vs_price_trends = '''\n",
    "SELECT \n",
    "    fmc.cost_year AS year,\n",
    "    fmc.manufacturing_cost,\n",
    "    fg.gross_price\n",
    "FROM fact_manufacturing_cost fmc\n",
    "JOIN fact_gross_price fg ON fmc.product_code = fg.product_code AND fmc.cost_year = fg.fiscal_year\n",
    "GROUP BY fmc.cost_year\n",
    "ORDER BY fmc.cost_year;\n",
    "'''\n",
    "cost_vs_price_trends = pd.read_sql_query(query_cost_vs_price_trends, con)\n",
    "\n",
    "#calculating median per year\n",
    "median_cost_price = cost_vs_price_trends.groupby('year').median().reset_index()"
   ]
  },
  {
   "cell_type": "code",
   "execution_count": 134,
   "id": "fe9e68cd-d5b4-4e1b-9138-227aa0bf09e6",
   "metadata": {},
   "outputs": [],
   "source": [
    "#seasonality trends with category and market\n",
    "query_seasonality_export = '''\n",
    "SELECT \n",
    "    strftime('%Y', fs.date) AS year,\n",
    "    strftime('%m', fs.date) AS month,\n",
    "    dp.category,\n",
    "    dc.market,\n",
    "    SUM(fs.sold_quantity * fg.gross_price * (1 - COALESCE(fpd.pre_invoice_discount_pct, 0))) AS total_revenue\n",
    "FROM fact_sales_monthly fs\n",
    "JOIN dim_product dp ON fs.product_code = dp.product_code\n",
    "JOIN dim_customer dc ON fs.customer_code = dc.customer_code\n",
    "JOIN fact_gross_price fg ON fs.product_code = fg.product_code AND fs.fiscal_year = fg.fiscal_year\n",
    "LEFT JOIN fact_pre_discount fpd ON fs.customer_code = fpd.customer_code AND fs.fiscal_year = fpd.fiscal_year\n",
    "GROUP BY year, month, dp.category, dc.market\n",
    "ORDER BY year, month;\n",
    "'''\n",
    "seasonality_export = pd.read_sql_query(query_seasonality_export, con)"
   ]
  },
  {
   "cell_type": "code",
   "execution_count": 135,
   "id": "2d4f664d-1913-4939-9663-355522417a74",
   "metadata": {},
   "outputs": [],
   "source": [
    "#tranforming dataframes to csv format \n",
    "revenue_profit_export.to_csv(\"~/Documents/Studying/FinalProject/datasets/tableau_data/revenue_profit_export.csv\", index=False)\n",
    "category_profit_export.to_csv(\"~/Documents/Studying/FinalProject/datasets/tableau_data/category_profit_export.csv\", index=False)\n",
    "median_cost_price.to_csv(\"~/Documents/Studying/FinalProject/datasets/tableau_data/median_cost_price.csv\", index=False)\n",
    "seasonality_export.to_csv(\"~/Documents/Studying/FinalProject/datasets/tableau_data/seasonality_export.csv\", index=False)"
   ]
  },
  {
   "cell_type": "markdown",
   "id": "d617f4be-afb2-42a9-b474-9cabd905bd6e",
   "metadata": {},
   "source": [
    "Below is a link to a Tableau workbook."
   ]
  },
  {
   "cell_type": "markdown",
   "id": "0c5823fc-4d53-448f-8d7f-e3e74e983c83",
   "metadata": {},
   "source": [
    "[Tableau Workbook](https://public.tableau.com/views/FinalProjectWorkbookRecent/T_ProfitT_Revenue?:language=en-US&:sid=&:redirect=auth&:display_count=n&:origin=viz_share_link)"
   ]
  },
  {
   "cell_type": "markdown",
   "id": "eb02f633-488d-4506-9387-dc7b527dd982",
   "metadata": {},
   "source": [
    "***"
   ]
  }
 ],
 "metadata": {
  "kernelspec": {
   "display_name": "Python [conda env:base] *",
   "language": "python",
   "name": "conda-base-py"
  },
  "language_info": {
   "codemirror_mode": {
    "name": "ipython",
    "version": 3
   },
   "file_extension": ".py",
   "mimetype": "text/x-python",
   "name": "python",
   "nbconvert_exporter": "python",
   "pygments_lexer": "ipython3",
   "version": "3.12.7"
  },
  "toc": {
   "base_numbering": 1,
   "nav_menu": {},
   "number_sections": true,
   "sideBar": true,
   "skip_h1_title": true,
   "title_cell": "Table of Contents",
   "title_sidebar": "Contents",
   "toc_cell": false,
   "toc_position": {},
   "toc_section_display": true,
   "toc_window_display": false
  }
 },
 "nbformat": 4,
 "nbformat_minor": 5
}
